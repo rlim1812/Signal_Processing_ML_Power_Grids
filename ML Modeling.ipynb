{
 "cells": [
  {
   "cell_type": "markdown",
   "metadata": {},
   "source": [
    "# Machine Learning "
   ]
  },
  {
   "cell_type": "markdown",
   "metadata": {},
   "source": [
    "## Installing and Importing Packages"
   ]
  },
  {
   "cell_type": "code",
   "execution_count": 1,
   "metadata": {},
   "outputs": [
    {
     "name": "stdout",
     "output_type": "stream",
     "text": [
      "Requirement already up-to-date: scikit-learn in c:\\users\\hongk\\anaconda3\\lib\\site-packages (0.20.3)\n",
      "Requirement already satisfied, skipping upgrade: numpy>=1.8.2 in c:\\users\\hongk\\anaconda3\\lib\\site-packages (from scikit-learn) (1.16.2)\n",
      "Requirement already satisfied, skipping upgrade: scipy>=0.13.3 in c:\\users\\hongk\\anaconda3\\lib\\site-packages (from scikit-learn) (1.2.1)\n",
      "Requirement already up-to-date: matplotlib in c:\\users\\hongk\\anaconda3\\lib\\site-packages (3.0.3)\n",
      "Requirement already satisfied, skipping upgrade: numpy>=1.10.0 in c:\\users\\hongk\\anaconda3\\lib\\site-packages (from matplotlib) (1.16.2)\n",
      "Requirement already satisfied, skipping upgrade: cycler>=0.10 in c:\\users\\hongk\\anaconda3\\lib\\site-packages (from matplotlib) (0.10.0)\n",
      "Requirement already satisfied, skipping upgrade: kiwisolver>=1.0.1 in c:\\users\\hongk\\anaconda3\\lib\\site-packages (from matplotlib) (1.0.1)\n",
      "Requirement already satisfied, skipping upgrade: pyparsing!=2.0.4,!=2.1.2,!=2.1.6,>=2.0.1 in c:\\users\\hongk\\anaconda3\\lib\\site-packages (from matplotlib) (2.3.1)\n",
      "Requirement already satisfied, skipping upgrade: python-dateutil>=2.1 in c:\\users\\hongk\\anaconda3\\lib\\site-packages (from matplotlib) (2.8.0)\n",
      "Requirement already satisfied, skipping upgrade: six in c:\\users\\hongk\\anaconda3\\lib\\site-packages (from cycler>=0.10->matplotlib) (1.12.0)\n",
      "Requirement already satisfied, skipping upgrade: setuptools in c:\\users\\hongk\\anaconda3\\lib\\site-packages (from kiwisolver>=1.0.1->matplotlib) (40.8.0)\n"
     ]
    }
   ],
   "source": [
    "!pip install -U scikit-learn\n",
    "!pip install -U matplotlib"
   ]
  },
  {
   "cell_type": "markdown",
   "metadata": {},
   "source": [
    "import sys, os\n",
    "import numpy as np\n",
    "import matplotlib.pyplot as plt\n",
    "from sklearn.decomposition import PCA\n",
    "from sklearn import preprocessing\n",
    "from sklearn.neighbors import KNeighborsClassifier\n",
    "from sklearn import metrics\n",
    "from sklearn.model_selection import train_test_split, GridSearchCV\n",
    "import types\n",
    "import pandas as pd"
   ]
  },
  {
   "cell_type": "markdown",
   "metadata": {},
   "source": [
    "## Loading in the Data"
   ]
  },
  {
   "cell_type": "code",
   "execution_count": 17,
   "metadata": {},
   "outputs": [
    {
     "data": {
      "text/html": [
       "<div>\n",
       "<style scoped>\n",
       "    .dataframe tbody tr th:only-of-type {\n",
       "        vertical-align: middle;\n",
       "    }\n",
       "\n",
       "    .dataframe tbody tr th {\n",
       "        vertical-align: top;\n",
       "    }\n",
       "\n",
       "    .dataframe thead th {\n",
       "        text-align: right;\n",
       "    }\n",
       "</style>\n",
       "<table border=\"1\" class=\"dataframe\">\n",
       "  <thead>\n",
       "    <tr style=\"text-align: right;\">\n",
       "      <th></th>\n",
       "      <th>signal_id</th>\n",
       "      <th>id_measurement</th>\n",
       "      <th>phase</th>\n",
       "      <th>target</th>\n",
       "      <th>mean</th>\n",
       "      <th>max</th>\n",
       "      <th>min</th>\n",
       "      <th>std</th>\n",
       "      <th>Amp0</th>\n",
       "      <th>Pha0</th>\n",
       "      <th>Amp1</th>\n",
       "      <th>Pha1</th>\n",
       "      <th>Amp2</th>\n",
       "      <th>Pha2</th>\n",
       "      <th>Amp3</th>\n",
       "      <th>Pha3</th>\n",
       "      <th>Amp4</th>\n",
       "      <th>Pha4</th>\n",
       "      <th>ErrFun</th>\n",
       "      <th>ErrGen</th>\n",
       "    </tr>\n",
       "  </thead>\n",
       "  <tbody>\n",
       "    <tr>\n",
       "      <th>0</th>\n",
       "      <td>0</td>\n",
       "      <td>0</td>\n",
       "      <td>0</td>\n",
       "      <td>0</td>\n",
       "      <td>-0.955625</td>\n",
       "      <td>33</td>\n",
       "      <td>-39</td>\n",
       "      <td>13.875082</td>\n",
       "      <td>7645.0</td>\n",
       "      <td>3.141593</td>\n",
       "      <td>77646.997989</td>\n",
       "      <td>0.565379</td>\n",
       "      <td>312.482475</td>\n",
       "      <td>-0.220529</td>\n",
       "      <td>555.905375</td>\n",
       "      <td>-0.142607</td>\n",
       "      <td>725.516282</td>\n",
       "      <td>-0.031373</td>\n",
       "      <td>2.027288</td>\n",
       "      <td>1.077001</td>\n",
       "    </tr>\n",
       "    <tr>\n",
       "      <th>1</th>\n",
       "      <td>1</td>\n",
       "      <td>0</td>\n",
       "      <td>1</td>\n",
       "      <td>0</td>\n",
       "      <td>-0.194250</td>\n",
       "      <td>26</td>\n",
       "      <td>-30</td>\n",
       "      <td>13.040534</td>\n",
       "      <td>1554.0</td>\n",
       "      <td>3.141593</td>\n",
       "      <td>72982.097221</td>\n",
       "      <td>-1.524697</td>\n",
       "      <td>238.348502</td>\n",
       "      <td>2.825956</td>\n",
       "      <td>653.633666</td>\n",
       "      <td>-2.782895</td>\n",
       "      <td>879.208223</td>\n",
       "      <td>-2.285654</td>\n",
       "      <td>1.898931</td>\n",
       "      <td>1.030193</td>\n",
       "    </tr>\n",
       "    <tr>\n",
       "      <th>2</th>\n",
       "      <td>2</td>\n",
       "      <td>0</td>\n",
       "      <td>2</td>\n",
       "      <td>0</td>\n",
       "      <td>-0.053000</td>\n",
       "      <td>39</td>\n",
       "      <td>-28</td>\n",
       "      <td>13.683245</td>\n",
       "      <td>424.0</td>\n",
       "      <td>3.141593</td>\n",
       "      <td>76638.532646</td>\n",
       "      <td>2.683598</td>\n",
       "      <td>50.933339</td>\n",
       "      <td>-2.321062</td>\n",
       "      <td>337.296314</td>\n",
       "      <td>2.089102</td>\n",
       "      <td>674.694524</td>\n",
       "      <td>1.896273</td>\n",
       "      <td>1.919745</td>\n",
       "      <td>1.068946</td>\n",
       "    </tr>\n",
       "    <tr>\n",
       "      <th>3</th>\n",
       "      <td>3</td>\n",
       "      <td>1</td>\n",
       "      <td>0</td>\n",
       "      <td>1</td>\n",
       "      <td>-0.995500</td>\n",
       "      <td>52</td>\n",
       "      <td>-77</td>\n",
       "      <td>13.669875</td>\n",
       "      <td>7964.0</td>\n",
       "      <td>3.141593</td>\n",
       "      <td>76936.076004</td>\n",
       "      <td>-2.398836</td>\n",
       "      <td>38.728609</td>\n",
       "      <td>-3.066331</td>\n",
       "      <td>254.582152</td>\n",
       "      <td>-2.665527</td>\n",
       "      <td>295.647834</td>\n",
       "      <td>-2.260187</td>\n",
       "      <td>1.375404</td>\n",
       "      <td>0.951130</td>\n",
       "    </tr>\n",
       "    <tr>\n",
       "      <th>4</th>\n",
       "      <td>4</td>\n",
       "      <td>1</td>\n",
       "      <td>1</td>\n",
       "      <td>1</td>\n",
       "      <td>-0.157625</td>\n",
       "      <td>33</td>\n",
       "      <td>-40</td>\n",
       "      <td>12.944276</td>\n",
       "      <td>1261.0</td>\n",
       "      <td>3.141593</td>\n",
       "      <td>72845.386093</td>\n",
       "      <td>1.793845</td>\n",
       "      <td>60.280461</td>\n",
       "      <td>1.176265</td>\n",
       "      <td>393.890115</td>\n",
       "      <td>1.371384</td>\n",
       "      <td>261.512972</td>\n",
       "      <td>1.711504</td>\n",
       "      <td>1.314423</td>\n",
       "      <td>0.857353</td>\n",
       "    </tr>\n",
       "  </tbody>\n",
       "</table>\n",
       "</div>"
      ],
      "text/plain": [
       "   signal_id  id_measurement  phase  target      mean  max  min        std  \\\n",
       "0          0               0      0       0 -0.955625   33  -39  13.875082   \n",
       "1          1               0      1       0 -0.194250   26  -30  13.040534   \n",
       "2          2               0      2       0 -0.053000   39  -28  13.683245   \n",
       "3          3               1      0       1 -0.995500   52  -77  13.669875   \n",
       "4          4               1      1       1 -0.157625   33  -40  12.944276   \n",
       "\n",
       "     Amp0      Pha0          Amp1      Pha1        Amp2      Pha2        Amp3  \\\n",
       "0  7645.0  3.141593  77646.997989  0.565379  312.482475 -0.220529  555.905375   \n",
       "1  1554.0  3.141593  72982.097221 -1.524697  238.348502  2.825956  653.633666   \n",
       "2   424.0  3.141593  76638.532646  2.683598   50.933339 -2.321062  337.296314   \n",
       "3  7964.0  3.141593  76936.076004 -2.398836   38.728609 -3.066331  254.582152   \n",
       "4  1261.0  3.141593  72845.386093  1.793845   60.280461  1.176265  393.890115   \n",
       "\n",
       "       Pha3        Amp4      Pha4    ErrFun    ErrGen  \n",
       "0 -0.142607  725.516282 -0.031373  2.027288  1.077001  \n",
       "1 -2.782895  879.208223 -2.285654  1.898931  1.030193  \n",
       "2  2.089102  674.694524  1.896273  1.919745  1.068946  \n",
       "3 -2.665527  295.647834 -2.260187  1.375404  0.951130  \n",
       "4  1.371384  261.512972  1.711504  1.314423  0.857353  "
      ]
     },
     "execution_count": 17,
     "metadata": {},
     "output_type": "execute_result"
    }
   ],
   "source": [
    "df_data_1 = pd.read_csv(\"df_train.csv\")\n",
    "df_data_1.head()"
   ]
  },
  {
   "cell_type": "markdown",
   "metadata": {},
   "source": [
    "## Formatting the Data"
   ]
  },
  {
   "cell_type": "code",
   "execution_count": 4,
   "metadata": {},
   "outputs": [],
   "source": [
    "df_data_features_labels = df_data_1.loc[:,[\"signal_id\", \"id_measurement\", \"target\", \"Amp0\",\"Pha0\", \"Amp1\", \"Pha1\", \"Amp2\", \"Pha2\", \"Amp3\", \"Pha3\", \"Amp4\", \"Pha4\", \"ErrFun\", \"ErrGen\"]]"
   ]
  },
  {
   "cell_type": "code",
   "execution_count": 5,
   "metadata": {},
   "outputs": [
    {
     "data": {
      "text/html": [
       "<div>\n",
       "<style scoped>\n",
       "    .dataframe tbody tr th:only-of-type {\n",
       "        vertical-align: middle;\n",
       "    }\n",
       "\n",
       "    .dataframe tbody tr th {\n",
       "        vertical-align: top;\n",
       "    }\n",
       "\n",
       "    .dataframe thead th {\n",
       "        text-align: right;\n",
       "    }\n",
       "</style>\n",
       "<table border=\"1\" class=\"dataframe\">\n",
       "  <thead>\n",
       "    <tr style=\"text-align: right;\">\n",
       "      <th></th>\n",
       "      <th>signal_id</th>\n",
       "      <th>id_measurement</th>\n",
       "      <th>target</th>\n",
       "      <th>Amp0</th>\n",
       "      <th>Pha0</th>\n",
       "      <th>Amp1</th>\n",
       "      <th>Pha1</th>\n",
       "      <th>Amp2</th>\n",
       "      <th>Pha2</th>\n",
       "      <th>Amp3</th>\n",
       "      <th>Pha3</th>\n",
       "      <th>Amp4</th>\n",
       "      <th>Pha4</th>\n",
       "      <th>ErrFun</th>\n",
       "      <th>ErrGen</th>\n",
       "    </tr>\n",
       "  </thead>\n",
       "  <tbody>\n",
       "    <tr>\n",
       "      <th>0</th>\n",
       "      <td>0</td>\n",
       "      <td>0</td>\n",
       "      <td>0</td>\n",
       "      <td>7645.0</td>\n",
       "      <td>3.141593</td>\n",
       "      <td>77646.997989</td>\n",
       "      <td>0.565379</td>\n",
       "      <td>312.482475</td>\n",
       "      <td>-0.220529</td>\n",
       "      <td>555.905375</td>\n",
       "      <td>-0.142607</td>\n",
       "      <td>725.516282</td>\n",
       "      <td>-0.031373</td>\n",
       "      <td>2.027288</td>\n",
       "      <td>1.077001</td>\n",
       "    </tr>\n",
       "    <tr>\n",
       "      <th>1</th>\n",
       "      <td>1</td>\n",
       "      <td>0</td>\n",
       "      <td>0</td>\n",
       "      <td>1554.0</td>\n",
       "      <td>3.141593</td>\n",
       "      <td>72982.097221</td>\n",
       "      <td>-1.524697</td>\n",
       "      <td>238.348502</td>\n",
       "      <td>2.825956</td>\n",
       "      <td>653.633666</td>\n",
       "      <td>-2.782895</td>\n",
       "      <td>879.208223</td>\n",
       "      <td>-2.285654</td>\n",
       "      <td>1.898931</td>\n",
       "      <td>1.030193</td>\n",
       "    </tr>\n",
       "    <tr>\n",
       "      <th>2</th>\n",
       "      <td>2</td>\n",
       "      <td>0</td>\n",
       "      <td>0</td>\n",
       "      <td>424.0</td>\n",
       "      <td>3.141593</td>\n",
       "      <td>76638.532646</td>\n",
       "      <td>2.683598</td>\n",
       "      <td>50.933339</td>\n",
       "      <td>-2.321062</td>\n",
       "      <td>337.296314</td>\n",
       "      <td>2.089102</td>\n",
       "      <td>674.694524</td>\n",
       "      <td>1.896273</td>\n",
       "      <td>1.919745</td>\n",
       "      <td>1.068946</td>\n",
       "    </tr>\n",
       "    <tr>\n",
       "      <th>3</th>\n",
       "      <td>3</td>\n",
       "      <td>1</td>\n",
       "      <td>1</td>\n",
       "      <td>7964.0</td>\n",
       "      <td>3.141593</td>\n",
       "      <td>76936.076004</td>\n",
       "      <td>-2.398836</td>\n",
       "      <td>38.728609</td>\n",
       "      <td>-3.066331</td>\n",
       "      <td>254.582152</td>\n",
       "      <td>-2.665527</td>\n",
       "      <td>295.647834</td>\n",
       "      <td>-2.260187</td>\n",
       "      <td>1.375404</td>\n",
       "      <td>0.951130</td>\n",
       "    </tr>\n",
       "    <tr>\n",
       "      <th>4</th>\n",
       "      <td>4</td>\n",
       "      <td>1</td>\n",
       "      <td>1</td>\n",
       "      <td>1261.0</td>\n",
       "      <td>3.141593</td>\n",
       "      <td>72845.386093</td>\n",
       "      <td>1.793845</td>\n",
       "      <td>60.280461</td>\n",
       "      <td>1.176265</td>\n",
       "      <td>393.890115</td>\n",
       "      <td>1.371384</td>\n",
       "      <td>261.512972</td>\n",
       "      <td>1.711504</td>\n",
       "      <td>1.314423</td>\n",
       "      <td>0.857353</td>\n",
       "    </tr>\n",
       "  </tbody>\n",
       "</table>\n",
       "</div>"
      ],
      "text/plain": [
       "   signal_id  id_measurement  target    Amp0      Pha0          Amp1  \\\n",
       "0          0               0       0  7645.0  3.141593  77646.997989   \n",
       "1          1               0       0  1554.0  3.141593  72982.097221   \n",
       "2          2               0       0   424.0  3.141593  76638.532646   \n",
       "3          3               1       1  7964.0  3.141593  76936.076004   \n",
       "4          4               1       1  1261.0  3.141593  72845.386093   \n",
       "\n",
       "       Pha1        Amp2      Pha2        Amp3      Pha3        Amp4      Pha4  \\\n",
       "0  0.565379  312.482475 -0.220529  555.905375 -0.142607  725.516282 -0.031373   \n",
       "1 -1.524697  238.348502  2.825956  653.633666 -2.782895  879.208223 -2.285654   \n",
       "2  2.683598   50.933339 -2.321062  337.296314  2.089102  674.694524  1.896273   \n",
       "3 -2.398836   38.728609 -3.066331  254.582152 -2.665527  295.647834 -2.260187   \n",
       "4  1.793845   60.280461  1.176265  393.890115  1.371384  261.512972  1.711504   \n",
       "\n",
       "     ErrFun    ErrGen  \n",
       "0  2.027288  1.077001  \n",
       "1  1.898931  1.030193  \n",
       "2  1.919745  1.068946  \n",
       "3  1.375404  0.951130  \n",
       "4  1.314423  0.857353  "
      ]
     },
     "execution_count": 5,
     "metadata": {},
     "output_type": "execute_result"
    }
   ],
   "source": [
    "df_data_features_labels.head(5)"
   ]
  },
  {
   "cell_type": "markdown",
   "metadata": {},
   "source": [
    "### Performing PCA (Principal Components Analysis)"
   ]
  },
  {
   "cell_type": "markdown",
   "metadata": {},
   "source": [
    "We will perform PCA to find out what the most relevant features for predicting partial discharges/faults are."
   ]
  },
  {
   "cell_type": "code",
   "execution_count": 6,
   "metadata": {},
   "outputs": [],
   "source": [
    "df_data_features = df_data_features_labels.iloc[:,2:]\n",
    "scaled_data = preprocessing.scale(df_data_features.T)\n",
    "pca = PCA()\n",
    "pca.fit(scaled_data) \n",
    "pca_data = pca.transform(scaled_data)"
   ]
  },
  {
   "cell_type": "code",
   "execution_count": 7,
   "metadata": {},
   "outputs": [
    {
     "data": {
      "image/png": "[encoded data removed]",
      "text/plain": [
       "<Figure size 432x288 with 1 Axes>"
      ]
     },
     "metadata": {
      "needs_background": "light"
     },
     "output_type": "display_data"
    }
   ],
   "source": [
    "per_var = np.round(pca.explained_variance_ratio_* 100, decimals=1)\n",
    "labels = ['PC' + str(x) for x in range(1, len(per_var)+1)]\n",
    " \n",
    "plt.bar(x=range(1,len(per_var)+1), height=per_var, tick_label=labels)\n",
    "plt.ylabel('Percentage of Explained Variance')\n",
    "plt.xlabel('Principal Component')\n",
    "plt.title('Scree Plot')\n",
    "plt.show()"
   ]
  },
  {
   "cell_type": "code",
   "execution_count": 8,
   "metadata": {},
   "outputs": [
    {
     "data": {
      "image/png": "[encoded data removed]",
      "text/plain": [
       "<Figure size 432x288 with 1 Axes>"
      ]
     },
     "metadata": {
      "needs_background": "light"
     },
     "output_type": "display_data"
    }
   ],
   "source": [
    "pca_df = pd.DataFrame(pca_data, index=df_data_features.columns, columns=labels)\n",
    "plt.scatter(pca_df.PC1, pca_df.PC2)\n",
    "plt.title('My PCA Graph')\n",
    "plt.xlabel('PC1 - {0}%'.format(per_var[0]))\n",
    "plt.ylabel('PC2 - {0}%'.format(per_var[1]))\n",
    " \n",
    "for sample in pca_df.index:\n",
    "    plt.annotate(sample, (pca_df.PC1.loc[sample], pca_df.PC2.loc[sample]))\n",
    " \n",
    "plt.show()"
   ]
  },
  {
   "cell_type": "code",
   "execution_count": 9,
   "metadata": {},
   "outputs": [
    {
     "data": {
      "text/plain": [
       "array([5652, 3051, 7482, 4911, 8067, 1434, 2097, 2613, 8514, 5982],\n",
       "      dtype=int64)"
      ]
     },
     "execution_count": 9,
     "metadata": {},
     "output_type": "execute_result"
    }
   ],
   "source": [
    "loading_scores = pd.Series(pca.components_[0])\n",
    "sorted_loading_scores = loading_scores.abs().sort_values(ascending=False)\n",
    "sorted_loading_scores[0:10].index.values"
   ]
  },
  {
   "cell_type": "markdown",
   "metadata": {},
   "source": [
    "## Feature Engineering "
   ]
  },
  {
   "cell_type": "markdown",
   "metadata": {},
   "source": [
    "Based on the results of PCA, we will select the most relevant features to build our predictive model."
   ]
  },
  {
   "cell_type": "code",
   "execution_count": 10,
   "metadata": {},
   "outputs": [
    {
     "name": "stderr",
     "output_type": "stream",
     "text": [
      "C:\\Users\\hongk\\Anaconda3\\lib\\site-packages\\ipykernel_launcher.py:3: FutureWarning: Method .as_matrix will be removed in a future version. Use .values instead.\n",
      "  This is separate from the ipykernel package so we can avoid doing imports until\n"
     ]
    }
   ],
   "source": [
    "df_signals_relevant_features_labels = df_data_features_labels.loc[:,[\"signal_id\",\"id_measurement\", \"target\", \"Amp0\", \"Amp1\"]]\n",
    "X, y = df_signals_relevant_features_labels.loc[:,[\"Amp0\", \"Amp1\"]], df_signals_relevant_features_labels.loc[:,[\"target\"]]\n",
    "X, y = X.as_matrix(), y.as_matrix()\n",
    "X_train, X_test, y_train, y_test = train_test_split(X, y, test_size=0.2)"
   ]
  },
  {
   "cell_type": "markdown",
   "metadata": {},
   "source": [
    "## Model Building"
   ]
  },
  {
   "cell_type": "markdown",
   "metadata": {},
   "source": [
    "Let's build, train, and test our k-nearest neighbor model. We'll tune the  number of neighbors hyperparameter and compare the prediction accuracy values."
   ]
  },
  {
   "cell_type": "code",
   "execution_count": 11,
   "metadata": {},
   "outputs": [
    {
     "name": "stdout",
     "output_type": "stream",
     "text": [
      "Accuracy: 0.9391853126792886\n"
     ]
    },
    {
     "name": "stderr",
     "output_type": "stream",
     "text": [
      "C:\\Users\\hongk\\Anaconda3\\lib\\site-packages\\ipykernel_launcher.py:5: DataConversionWarning: A column-vector y was passed when a 1d array was expected. Please change the shape of y to (n_samples, ), for example using ravel().\n",
      "  \"\"\"\n"
     ]
    }
   ],
   "source": [
    "# Select Model\n",
    "knn_model_1 = KNeighborsClassifier(n_neighbors=100)\n",
    "\n",
    "# Train the model using the training sets\n",
    "knn_model_1.fit(X_train,y_train)\n",
    "\n",
    "# Predict Output\n",
    "y_predictions_1 = knn_model_1.predict(X_test)\n",
    "accuracy_1 = metrics.accuracy_score(y_test, y_predictions_1)\n",
    "\n",
    "print(\"Accuracy:\", accuracy_1)"
   ]
  },
  {
   "cell_type": "code",
   "execution_count": 12,
   "metadata": {},
   "outputs": [
    {
     "name": "stderr",
     "output_type": "stream",
     "text": [
      "C:\\Users\\hongk\\Anaconda3\\lib\\site-packages\\ipykernel_launcher.py:5: DataConversionWarning: A column-vector y was passed when a 1d array was expected. Please change the shape of y to (n_samples, ), for example using ravel().\n",
      "  \"\"\"\n"
     ]
    },
    {
     "name": "stdout",
     "output_type": "stream",
     "text": [
      "Accuracy: 0.9391853126792886\n"
     ]
    }
   ],
   "source": [
    "# Select Model\n",
    "knn_model_2 = KNeighborsClassifier(n_neighbors=500)\n",
    "\n",
    "# Train the model using the training sets\n",
    "knn_model_2.fit(X_train,y_train)\n",
    "\n",
    "# Predict Output\n",
    "y_predictions_2 = knn_model_2.predict(X_test)\n",
    "accuracy_2 = metrics.accuracy_score(y_test, y_predictions_2)\n",
    "\n",
    "print(\"Accuracy:\", accuracy_2)"
   ]
  },
  {
   "cell_type": "code",
   "execution_count": 14,
   "metadata": {},
   "outputs": [
    {
     "name": "stderr",
     "output_type": "stream",
     "text": [
      "C:\\Users\\hongk\\Anaconda3\\lib\\site-packages\\ipykernel_launcher.py:5: DataConversionWarning: A column-vector y was passed when a 1d array was expected. Please change the shape of y to (n_samples, ), for example using ravel().\n",
      "  \"\"\"\n"
     ]
    },
    {
     "name": "stdout",
     "output_type": "stream",
     "text": [
      "Accuracy: 0.9391853126792886\n"
     ]
    }
   ],
   "source": [
    "# Select Model\n",
    "knn_model_3 = KNeighborsClassifier(n_neighbors=1000)\n",
    "\n",
    "# Train the model using the training sets\n",
    "knn_model_3 = knn_model_3.fit(X_train,y_train)\n",
    "\n",
    "# Predict Output\n",
    "y_predictions_3 = knn_model_3.predict(X_test)\n",
    "accuracy_3 = metrics.accuracy_score(y_test, y_predictions_3)\n",
    "\n",
    "print(\"Accuracy:\", accuracy_3)"
   ]
  },
  {
   "cell_type": "code",
   "execution_count": 15,
   "metadata": {},
   "outputs": [
    {
     "data": {
      "image/png": "[encoded data removed]",
      "text/plain": [
       "<Figure size 432x288 with 1 Axes>"
      ]
     },
     "metadata": {
      "needs_background": "light"
     },
     "output_type": "display_data"
    }
   ],
   "source": [
    "plt.bar(x=[100, 500, 1000], height=[accuracy_1, accuracy_2, accuracy_3])\n",
    "plt.ylabel(\"Accuracy %\")\n",
    "plt.xlabel(\"K Number of Neighbors\")\n",
    "plt.title(\"K-nearest Neighbors (K-NN) Prediction Accuracy Values\")\n",
    "plt.show()"
   ]
  },
  {
   "cell_type": "markdown",
   "metadata": {},
   "source": [
    "## In conclusion, we have used the k-nearest neighbor machine learning algorithm in order to achieve 94% prediction accuracy of partial discharge/faults in power grid systems. "
   ]
  }
 ],
 "metadata": {
  "kernelspec": {
   "display_name": "Python 3",
   "language": "python",
   "name": "python3"
  },
  "language_info": {
   "codemirror_mode": {
    "name": "ipython",
    "version": 3
   },
   "file_extension": ".py",
   "mimetype": "text/x-python",
   "name": "python",
   "nbconvert_exporter": "python",
   "pygments_lexer": "ipython3",
   "version": "3.6.8"
  }
 },
 "nbformat": 4,
 "nbformat_minor": 1
}
