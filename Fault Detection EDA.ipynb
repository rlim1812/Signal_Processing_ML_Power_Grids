{
 "cells": [
  {
   "cell_type": "markdown",
   "metadata": {},
   "source": [
    "# Exploratory Data Analysis"
   ]
  },
  {
   "cell_type": "markdown",
   "metadata": {},
   "source": [
    "First, we'll import the packages we need to do the exploration."
   ]
  },
  {
   "cell_type": "code",
   "execution_count": 1,
   "metadata": {},
   "outputs": [],
   "source": [
    "import numpy as np\n",
    "import pandas as pd\n",
    "import matplotlib.pyplot as plt\n",
    "import seaborn as sns\n",
    "%matplotlib inline"
   ]
  },
  {
   "cell_type": "code",
   "execution_count": 2,
   "metadata": {},
   "outputs": [],
   "source": [
    "import warnings\n",
    "warnings.filterwarnings('ignore')"
   ]
  },
  {
   "cell_type": "code",
   "execution_count": 3,
   "metadata": {},
   "outputs": [],
   "source": [
    "import gc\n",
    "import pyarrow.parquet as pq"
   ]
  },
  {
   "cell_type": "code",
   "execution_count": 4,
   "metadata": {},
   "outputs": [
    {
     "name": "stdout",
     "output_type": "stream",
     "text": [
      "['metadata_test.csv', 'metadata_train.csv', 'sample_submission.csv', 'test.parquet', 'train.parquet']\n"
     ]
    }
   ],
   "source": [
    "import os\n",
    "print(os.listdir(\"input\"))"
   ]
  },
  {
   "cell_type": "markdown",
   "metadata": {},
   "source": [
    "## Load in Data"
   ]
  },
  {
   "cell_type": "markdown",
   "metadata": {},
   "source": [
    "Next, we'll load in the data we are going to explore. "
   ]
  },
  {
   "cell_type": "code",
   "execution_count": 5,
   "metadata": {},
   "outputs": [
    {
     "name": "stdout",
     "output_type": "stream",
     "text": [
      "<class 'pandas.core.frame.DataFrame'>\n",
      "RangeIndex: 8712 entries, 0 to 8711\n",
      "Data columns (total 4 columns):\n",
      "signal_id         8712 non-null int64\n",
      "id_measurement    8712 non-null int64\n",
      "phase             8712 non-null int64\n",
      "target            8712 non-null int64\n",
      "dtypes: int64(4)\n",
      "memory usage: 272.3 KB\n"
     ]
    }
   ],
   "source": [
    "metadata_train = pd.read_csv(\"input/metadata_train.csv\")\n",
    "metadata_train.info()"
   ]
  },
  {
   "cell_type": "code",
   "execution_count": 6,
   "metadata": {},
   "outputs": [
    {
     "data": {
      "text/html": [
       "<div>\n",
       "<style scoped>\n",
       "    .dataframe tbody tr th:only-of-type {\n",
       "        vertical-align: middle;\n",
       "    }\n",
       "\n",
       "    .dataframe tbody tr th {\n",
       "        vertical-align: top;\n",
       "    }\n",
       "\n",
       "    .dataframe thead th {\n",
       "        text-align: right;\n",
       "    }\n",
       "</style>\n",
       "<table border=\"1\" class=\"dataframe\">\n",
       "  <thead>\n",
       "    <tr style=\"text-align: right;\">\n",
       "      <th></th>\n",
       "      <th>signal_id</th>\n",
       "      <th>id_measurement</th>\n",
       "      <th>phase</th>\n",
       "      <th>target</th>\n",
       "    </tr>\n",
       "  </thead>\n",
       "  <tbody>\n",
       "    <tr>\n",
       "      <th>0</th>\n",
       "      <td>0</td>\n",
       "      <td>0</td>\n",
       "      <td>0</td>\n",
       "      <td>0</td>\n",
       "    </tr>\n",
       "    <tr>\n",
       "      <th>1</th>\n",
       "      <td>1</td>\n",
       "      <td>0</td>\n",
       "      <td>1</td>\n",
       "      <td>0</td>\n",
       "    </tr>\n",
       "    <tr>\n",
       "      <th>2</th>\n",
       "      <td>2</td>\n",
       "      <td>0</td>\n",
       "      <td>2</td>\n",
       "      <td>0</td>\n",
       "    </tr>\n",
       "    <tr>\n",
       "      <th>3</th>\n",
       "      <td>3</td>\n",
       "      <td>1</td>\n",
       "      <td>0</td>\n",
       "      <td>1</td>\n",
       "    </tr>\n",
       "    <tr>\n",
       "      <th>4</th>\n",
       "      <td>4</td>\n",
       "      <td>1</td>\n",
       "      <td>1</td>\n",
       "      <td>1</td>\n",
       "    </tr>\n",
       "    <tr>\n",
       "      <th>5</th>\n",
       "      <td>5</td>\n",
       "      <td>1</td>\n",
       "      <td>2</td>\n",
       "      <td>1</td>\n",
       "    </tr>\n",
       "    <tr>\n",
       "      <th>6</th>\n",
       "      <td>6</td>\n",
       "      <td>2</td>\n",
       "      <td>0</td>\n",
       "      <td>0</td>\n",
       "    </tr>\n",
       "    <tr>\n",
       "      <th>7</th>\n",
       "      <td>7</td>\n",
       "      <td>2</td>\n",
       "      <td>1</td>\n",
       "      <td>0</td>\n",
       "    </tr>\n",
       "    <tr>\n",
       "      <th>8</th>\n",
       "      <td>8</td>\n",
       "      <td>2</td>\n",
       "      <td>2</td>\n",
       "      <td>0</td>\n",
       "    </tr>\n",
       "    <tr>\n",
       "      <th>9</th>\n",
       "      <td>9</td>\n",
       "      <td>3</td>\n",
       "      <td>0</td>\n",
       "      <td>0</td>\n",
       "    </tr>\n",
       "    <tr>\n",
       "      <th>10</th>\n",
       "      <td>10</td>\n",
       "      <td>3</td>\n",
       "      <td>1</td>\n",
       "      <td>0</td>\n",
       "    </tr>\n",
       "    <tr>\n",
       "      <th>11</th>\n",
       "      <td>11</td>\n",
       "      <td>3</td>\n",
       "      <td>2</td>\n",
       "      <td>0</td>\n",
       "    </tr>\n",
       "  </tbody>\n",
       "</table>\n",
       "</div>"
      ],
      "text/plain": [
       "    signal_id  id_measurement  phase  target\n",
       "0           0               0      0       0\n",
       "1           1               0      1       0\n",
       "2           2               0      2       0\n",
       "3           3               1      0       1\n",
       "4           4               1      1       1\n",
       "5           5               1      2       1\n",
       "6           6               2      0       0\n",
       "7           7               2      1       0\n",
       "8           8               2      2       0\n",
       "9           9               3      0       0\n",
       "10         10               3      1       0\n",
       "11         11               3      2       0"
      ]
     },
     "execution_count": 6,
     "metadata": {},
     "output_type": "execute_result"
    }
   ],
   "source": [
    "metadata_train.head(12)"
   ]
  },
  {
   "cell_type": "code",
   "execution_count": 7,
   "metadata": {},
   "outputs": [
    {
     "name": "stdout",
     "output_type": "stream",
     "text": [
      "<class 'pandas.core.frame.DataFrame'>\n",
      "RangeIndex: 20337 entries, 0 to 20336\n",
      "Data columns (total 3 columns):\n",
      "signal_id         20337 non-null int64\n",
      "id_measurement    20337 non-null int64\n",
      "phase             20337 non-null int64\n",
      "dtypes: int64(3)\n",
      "memory usage: 476.7 KB\n"
     ]
    }
   ],
   "source": [
    "metadata_test = pd.read_csv(\"input/metadata_test.csv\")\n",
    "metadata_test.info()"
   ]
  },
  {
   "cell_type": "code",
   "execution_count": 8,
   "metadata": {},
   "outputs": [
    {
     "data": {
      "text/html": [
       "<div>\n",
       "<style scoped>\n",
       "    .dataframe tbody tr th:only-of-type {\n",
       "        vertical-align: middle;\n",
       "    }\n",
       "\n",
       "    .dataframe tbody tr th {\n",
       "        vertical-align: top;\n",
       "    }\n",
       "\n",
       "    .dataframe thead th {\n",
       "        text-align: right;\n",
       "    }\n",
       "</style>\n",
       "<table border=\"1\" class=\"dataframe\">\n",
       "  <thead>\n",
       "    <tr style=\"text-align: right;\">\n",
       "      <th></th>\n",
       "      <th>signal_id</th>\n",
       "      <th>id_measurement</th>\n",
       "      <th>phase</th>\n",
       "    </tr>\n",
       "  </thead>\n",
       "  <tbody>\n",
       "    <tr>\n",
       "      <th>0</th>\n",
       "      <td>8712</td>\n",
       "      <td>2904</td>\n",
       "      <td>0</td>\n",
       "    </tr>\n",
       "    <tr>\n",
       "      <th>1</th>\n",
       "      <td>8713</td>\n",
       "      <td>2904</td>\n",
       "      <td>1</td>\n",
       "    </tr>\n",
       "    <tr>\n",
       "      <th>2</th>\n",
       "      <td>8714</td>\n",
       "      <td>2904</td>\n",
       "      <td>2</td>\n",
       "    </tr>\n",
       "    <tr>\n",
       "      <th>3</th>\n",
       "      <td>8715</td>\n",
       "      <td>2905</td>\n",
       "      <td>0</td>\n",
       "    </tr>\n",
       "    <tr>\n",
       "      <th>4</th>\n",
       "      <td>8716</td>\n",
       "      <td>2905</td>\n",
       "      <td>1</td>\n",
       "    </tr>\n",
       "    <tr>\n",
       "      <th>5</th>\n",
       "      <td>8717</td>\n",
       "      <td>2905</td>\n",
       "      <td>2</td>\n",
       "    </tr>\n",
       "    <tr>\n",
       "      <th>6</th>\n",
       "      <td>8718</td>\n",
       "      <td>2906</td>\n",
       "      <td>0</td>\n",
       "    </tr>\n",
       "    <tr>\n",
       "      <th>7</th>\n",
       "      <td>8719</td>\n",
       "      <td>2906</td>\n",
       "      <td>1</td>\n",
       "    </tr>\n",
       "    <tr>\n",
       "      <th>8</th>\n",
       "      <td>8720</td>\n",
       "      <td>2906</td>\n",
       "      <td>2</td>\n",
       "    </tr>\n",
       "    <tr>\n",
       "      <th>9</th>\n",
       "      <td>8721</td>\n",
       "      <td>2907</td>\n",
       "      <td>0</td>\n",
       "    </tr>\n",
       "    <tr>\n",
       "      <th>10</th>\n",
       "      <td>8722</td>\n",
       "      <td>2907</td>\n",
       "      <td>1</td>\n",
       "    </tr>\n",
       "    <tr>\n",
       "      <th>11</th>\n",
       "      <td>8723</td>\n",
       "      <td>2907</td>\n",
       "      <td>2</td>\n",
       "    </tr>\n",
       "  </tbody>\n",
       "</table>\n",
       "</div>"
      ],
      "text/plain": [
       "    signal_id  id_measurement  phase\n",
       "0        8712            2904      0\n",
       "1        8713            2904      1\n",
       "2        8714            2904      2\n",
       "3        8715            2905      0\n",
       "4        8716            2905      1\n",
       "5        8717            2905      2\n",
       "6        8718            2906      0\n",
       "7        8719            2906      1\n",
       "8        8720            2906      2\n",
       "9        8721            2907      0\n",
       "10       8722            2907      1\n",
       "11       8723            2907      2"
      ]
     },
     "execution_count": 8,
     "metadata": {},
     "output_type": "execute_result"
    }
   ],
   "source": [
    "metadata_test.head(12)"
   ]
  },
  {
   "cell_type": "code",
   "execution_count": 9,
   "metadata": {},
   "outputs": [
    {
     "name": "stdout",
     "output_type": "stream",
     "text": [
      "<class 'pandas.core.frame.DataFrame'>\n",
      "RangeIndex: 20337 entries, 0 to 20336\n",
      "Data columns (total 2 columns):\n",
      "signal_id    20337 non-null int64\n",
      "target       20337 non-null int64\n",
      "dtypes: int64(2)\n",
      "memory usage: 317.8 KB\n"
     ]
    }
   ],
   "source": [
    "sample_submission = pd.read_csv(\"input/sample_submission.csv\")\n",
    "sample_submission.info()"
   ]
  },
  {
   "cell_type": "code",
   "execution_count": 10,
   "metadata": {},
   "outputs": [
    {
     "data": {
      "text/html": [
       "<div>\n",
       "<style scoped>\n",
       "    .dataframe tbody tr th:only-of-type {\n",
       "        vertical-align: middle;\n",
       "    }\n",
       "\n",
       "    .dataframe tbody tr th {\n",
       "        vertical-align: top;\n",
       "    }\n",
       "\n",
       "    .dataframe thead th {\n",
       "        text-align: right;\n",
       "    }\n",
       "</style>\n",
       "<table border=\"1\" class=\"dataframe\">\n",
       "  <thead>\n",
       "    <tr style=\"text-align: right;\">\n",
       "      <th></th>\n",
       "      <th>signal_id</th>\n",
       "      <th>target</th>\n",
       "    </tr>\n",
       "  </thead>\n",
       "  <tbody>\n",
       "    <tr>\n",
       "      <th>0</th>\n",
       "      <td>8712</td>\n",
       "      <td>0</td>\n",
       "    </tr>\n",
       "    <tr>\n",
       "      <th>1</th>\n",
       "      <td>8713</td>\n",
       "      <td>0</td>\n",
       "    </tr>\n",
       "    <tr>\n",
       "      <th>2</th>\n",
       "      <td>8714</td>\n",
       "      <td>0</td>\n",
       "    </tr>\n",
       "    <tr>\n",
       "      <th>3</th>\n",
       "      <td>8715</td>\n",
       "      <td>0</td>\n",
       "    </tr>\n",
       "    <tr>\n",
       "      <th>4</th>\n",
       "      <td>8716</td>\n",
       "      <td>0</td>\n",
       "    </tr>\n",
       "    <tr>\n",
       "      <th>5</th>\n",
       "      <td>8717</td>\n",
       "      <td>0</td>\n",
       "    </tr>\n",
       "    <tr>\n",
       "      <th>6</th>\n",
       "      <td>8718</td>\n",
       "      <td>0</td>\n",
       "    </tr>\n",
       "    <tr>\n",
       "      <th>7</th>\n",
       "      <td>8719</td>\n",
       "      <td>0</td>\n",
       "    </tr>\n",
       "    <tr>\n",
       "      <th>8</th>\n",
       "      <td>8720</td>\n",
       "      <td>0</td>\n",
       "    </tr>\n",
       "    <tr>\n",
       "      <th>9</th>\n",
       "      <td>8721</td>\n",
       "      <td>0</td>\n",
       "    </tr>\n",
       "    <tr>\n",
       "      <th>10</th>\n",
       "      <td>8722</td>\n",
       "      <td>0</td>\n",
       "    </tr>\n",
       "    <tr>\n",
       "      <th>11</th>\n",
       "      <td>8723</td>\n",
       "      <td>0</td>\n",
       "    </tr>\n",
       "  </tbody>\n",
       "</table>\n",
       "</div>"
      ],
      "text/plain": [
       "    signal_id  target\n",
       "0        8712       0\n",
       "1        8713       0\n",
       "2        8714       0\n",
       "3        8715       0\n",
       "4        8716       0\n",
       "5        8717       0\n",
       "6        8718       0\n",
       "7        8719       0\n",
       "8        8720       0\n",
       "9        8721       0\n",
       "10       8722       0\n",
       "11       8723       0"
      ]
     },
     "execution_count": 10,
     "metadata": {},
     "output_type": "execute_result"
    }
   ],
   "source": [
    "sample_submission.head(12)"
   ]
  },
  {
   "cell_type": "markdown",
   "metadata": {},
   "source": [
    "## Training Set Preparation"
   ]
  },
  {
   "cell_type": "markdown",
   "metadata": {},
   "source": [
    "We will break up the data set into a training set and a test set to build our machine learning model. First, we will get the training set. "
   ]
  },
  {
   "cell_type": "code",
   "execution_count": 13,
   "metadata": {},
   "outputs": [],
   "source": [
    "train = pq.read_pandas('input/train.parquet').to_pandas()"
   ]
  },
  {
   "cell_type": "code",
   "execution_count": 14,
   "metadata": {},
   "outputs": [
    {
     "name": "stdout",
     "output_type": "stream",
     "text": [
      "<class 'pandas.core.frame.DataFrame'>\n",
      "RangeIndex: 800000 entries, 0 to 799999\n",
      "Columns: 8712 entries, 0 to 8711\n",
      "dtypes: int8(8712)\n",
      "memory usage: 6.5 GB\n"
     ]
    }
   ],
   "source": [
    "train.info()"
   ]
  },
  {
   "cell_type": "code",
   "execution_count": 15,
   "metadata": {},
   "outputs": [
    {
     "data": {
      "text/html": [
       "<div>\n",
       "<style scoped>\n",
       "    .dataframe tbody tr th:only-of-type {\n",
       "        vertical-align: middle;\n",
       "    }\n",
       "\n",
       "    .dataframe tbody tr th {\n",
       "        vertical-align: top;\n",
       "    }\n",
       "\n",
       "    .dataframe thead th {\n",
       "        text-align: right;\n",
       "    }\n",
       "</style>\n",
       "<table border=\"1\" class=\"dataframe\">\n",
       "  <thead>\n",
       "    <tr style=\"text-align: right;\">\n",
       "      <th></th>\n",
       "      <th>0</th>\n",
       "      <th>1</th>\n",
       "      <th>2</th>\n",
       "      <th>3</th>\n",
       "      <th>4</th>\n",
       "      <th>5</th>\n",
       "      <th>6</th>\n",
       "      <th>7</th>\n",
       "      <th>8</th>\n",
       "      <th>9</th>\n",
       "    </tr>\n",
       "  </thead>\n",
       "  <tbody>\n",
       "    <tr>\n",
       "      <th>0</th>\n",
       "      <td>18</td>\n",
       "      <td>1</td>\n",
       "      <td>-19</td>\n",
       "      <td>-16</td>\n",
       "      <td>-5</td>\n",
       "      <td>19</td>\n",
       "      <td>-15</td>\n",
       "      <td>15</td>\n",
       "      <td>-1</td>\n",
       "      <td>-16</td>\n",
       "    </tr>\n",
       "    <tr>\n",
       "      <th>1</th>\n",
       "      <td>18</td>\n",
       "      <td>0</td>\n",
       "      <td>-19</td>\n",
       "      <td>-17</td>\n",
       "      <td>-6</td>\n",
       "      <td>19</td>\n",
       "      <td>-17</td>\n",
       "      <td>16</td>\n",
       "      <td>0</td>\n",
       "      <td>-15</td>\n",
       "    </tr>\n",
       "    <tr>\n",
       "      <th>2</th>\n",
       "      <td>17</td>\n",
       "      <td>-1</td>\n",
       "      <td>-20</td>\n",
       "      <td>-17</td>\n",
       "      <td>-6</td>\n",
       "      <td>19</td>\n",
       "      <td>-17</td>\n",
       "      <td>15</td>\n",
       "      <td>-3</td>\n",
       "      <td>-15</td>\n",
       "    </tr>\n",
       "    <tr>\n",
       "      <th>3</th>\n",
       "      <td>18</td>\n",
       "      <td>1</td>\n",
       "      <td>-19</td>\n",
       "      <td>-16</td>\n",
       "      <td>-5</td>\n",
       "      <td>20</td>\n",
       "      <td>-16</td>\n",
       "      <td>16</td>\n",
       "      <td>0</td>\n",
       "      <td>-15</td>\n",
       "    </tr>\n",
       "    <tr>\n",
       "      <th>4</th>\n",
       "      <td>18</td>\n",
       "      <td>0</td>\n",
       "      <td>-19</td>\n",
       "      <td>-16</td>\n",
       "      <td>-5</td>\n",
       "      <td>20</td>\n",
       "      <td>-17</td>\n",
       "      <td>16</td>\n",
       "      <td>-2</td>\n",
       "      <td>-14</td>\n",
       "    </tr>\n",
       "    <tr>\n",
       "      <th>5</th>\n",
       "      <td>18</td>\n",
       "      <td>0</td>\n",
       "      <td>-20</td>\n",
       "      <td>-15</td>\n",
       "      <td>-4</td>\n",
       "      <td>20</td>\n",
       "      <td>-16</td>\n",
       "      <td>15</td>\n",
       "      <td>-2</td>\n",
       "      <td>-12</td>\n",
       "    </tr>\n",
       "    <tr>\n",
       "      <th>6</th>\n",
       "      <td>19</td>\n",
       "      <td>1</td>\n",
       "      <td>-18</td>\n",
       "      <td>-16</td>\n",
       "      <td>-5</td>\n",
       "      <td>20</td>\n",
       "      <td>-16</td>\n",
       "      <td>16</td>\n",
       "      <td>-1</td>\n",
       "      <td>-13</td>\n",
       "    </tr>\n",
       "  </tbody>\n",
       "</table>\n",
       "</div>"
      ],
      "text/plain": [
       "    0  1   2   3  4   5   6   7  8   9\n",
       "0  18  1 -19 -16 -5  19 -15  15 -1 -16\n",
       "1  18  0 -19 -17 -6  19 -17  16  0 -15\n",
       "2  17 -1 -20 -17 -6  19 -17  15 -3 -15\n",
       "3  18  1 -19 -16 -5  20 -16  16  0 -15\n",
       "4  18  0 -19 -16 -5  20 -17  16 -2 -14\n",
       "5  18  0 -20 -15 -4  20 -16  15 -2 -12\n",
       "6  19  1 -18 -16 -5  20 -16  16 -1 -13"
      ]
     },
     "execution_count": 15,
     "metadata": {},
     "output_type": "execute_result"
    }
   ],
   "source": [
    "train.iloc[0:7,0:10]"
   ]
  },
  {
   "cell_type": "code",
   "execution_count": 16,
   "metadata": {},
   "outputs": [],
   "source": [
    "x = train.index\n",
    "y = train.iloc[:,0]"
   ]
  },
  {
   "cell_type": "code",
   "execution_count": 17,
   "metadata": {},
   "outputs": [
    {
     "data": {
      "text/plain": [
       "[<matplotlib.lines.Line2D at 0x2a03adfc6d8>]"
      ]
     },
     "execution_count": 17,
     "metadata": {},
     "output_type": "execute_result"
    },
    {
     "data": {
      "image/png": "[encoded data removed]",
      "text/plain": [
       "<Figure size 864x288 with 1 Axes>"
      ]
     },
     "metadata": {
      "needs_background": "light"
     },
     "output_type": "display_data"
    }
   ],
   "source": [
    "fig = plt.figure(figsize=(12,4))\n",
    "ax1 = fig.add_axes([0,0,1,1])\n",
    "ax1.plot(x,y,color='lightblue')"
   ]
  },
  {
   "cell_type": "code",
   "execution_count": 18,
   "metadata": {},
   "outputs": [
    {
     "data": {
      "text/plain": [
       "[<matplotlib.lines.Line2D at 0x2a03ae2bc50>]"
      ]
     },
     "execution_count": 18,
     "metadata": {},
     "output_type": "execute_result"
    },
    {
     "data": {
      "image/png": "[encoded data removed]",
      "text/plain": [
       "<Figure size 864x288 with 2 Axes>"
      ]
     },
     "metadata": {
      "needs_background": "light"
     },
     "output_type": "display_data"
    }
   ],
   "source": [
    "fig = plt.figure(figsize=(12,4))\n",
    "ax1 = fig.add_axes([0,0,1,1])\n",
    "ax1.set_xlim([10,300])\n",
    "ax1.set_ylim([10,30])\n",
    "ax1.plot(x,y,marker='o', color='gold')\n",
    "ax2 = fig.add_axes([0.7,0.7,0.2,0.2])\n",
    "ax2.plot(x,y, color='lightblue')"
   ]
  },
  {
   "cell_type": "markdown",
   "metadata": {},
   "source": [
    "Let's look at some good signals."
   ]
  },
  {
   "cell_type": "code",
   "execution_count": 19,
   "metadata": {},
   "outputs": [],
   "source": [
    "x = train.index\n",
    "y0 = train.iloc[:,0]\n",
    "y1 = train.iloc[:,1]\n",
    "y2 = train.iloc[:,2]"
   ]
  },
  {
   "cell_type": "code",
   "execution_count": 20,
   "metadata": {},
   "outputs": [
    {
     "data": {
      "text/plain": [
       "[<matplotlib.lines.Line2D at 0x2a03ae5de10>]"
      ]
     },
     "execution_count": 20,
     "metadata": {},
     "output_type": "execute_result"
    },
    {
     "data": {
      "image/png": "[encoded data removed]",
      "text/plain": [
       "<Figure size 864x288 with 1 Axes>"
      ]
     },
     "metadata": {
      "needs_background": "light"
     },
     "output_type": "display_data"
    }
   ],
   "source": [
    "fig = plt.figure(figsize=(12,4))\n",
    "ax1 = fig.add_axes([0,0,1,1])\n",
    "ax1.plot(x,y0,color='blue')\n",
    "ax1.plot(x,y1,color='grey')\n",
    "ax1.plot(x,y2,color='red')"
   ]
  },
  {
   "cell_type": "code",
   "execution_count": 21,
   "metadata": {},
   "outputs": [
    {
     "name": "stdout",
     "output_type": "stream",
     "text": [
      "Mean: -0.96027125\n",
      "Min: -39\n",
      "Max: 33\n",
      "Std: 13.870724309725986\n"
     ]
    }
   ],
   "source": [
    "print(\"Mean: \" + str(np.mean(y0)))\n",
    "print(\"Min: \" + str(np.min(y0)))\n",
    "print(\"Max: \" + str(np.max(y0)))\n",
    "print(\"Std: \" + str(np.std(y0)))"
   ]
  },
  {
   "cell_type": "markdown",
   "metadata": {},
   "source": [
    "Now let's look at some bad signals."
   ]
  },
  {
   "cell_type": "code",
   "execution_count": 22,
   "metadata": {},
   "outputs": [],
   "source": [
    "z0 = train.iloc[:,3]\n",
    "z1 = train.iloc[:,4]\n",
    "z2 = train.iloc[:,5]"
   ]
  },
  {
   "cell_type": "code",
   "execution_count": 23,
   "metadata": {},
   "outputs": [
    {
     "data": {
      "text/plain": [
       "[<matplotlib.lines.Line2D at 0x2a03ae808d0>]"
      ]
     },
     "execution_count": 23,
     "metadata": {},
     "output_type": "execute_result"
    },
    {
     "data": {
      "image/png": "[encoded data removed]",
      "text/plain": [
       "<Figure size 864x288 with 1 Axes>"
      ]
     },
     "metadata": {
      "needs_background": "light"
     },
     "output_type": "display_data"
    }
   ],
   "source": [
    "fig = plt.figure(figsize=(12,4))\n",
    "ax1 = fig.add_axes([0,0,1,1])\n",
    "ax1.plot(x,z0,color='grey')\n",
    "ax1.plot(x,z1,color='red')\n",
    "ax1.plot(x,z2,color='blue')"
   ]
  },
  {
   "cell_type": "code",
   "execution_count": 24,
   "metadata": {},
   "outputs": [
    {
     "name": "stdout",
     "output_type": "stream",
     "text": [
      "Mean: -0.99740125\n",
      "Min: -77\n",
      "Max: 52\n",
      "Std: 13.673629986089956\n"
     ]
    }
   ],
   "source": [
    "print(\"Mean: \" + str(np.mean(z0)))\n",
    "print(\"Min: \" + str(np.min(z0)))\n",
    "print(\"Max: \" + str(np.max(z0)))\n",
    "print(\"Std: \" + str(np.std(z0)))"
   ]
  },
  {
   "cell_type": "code",
   "execution_count": 25,
   "metadata": {},
   "outputs": [
    {
     "data": {
      "text/plain": [
       "800000"
      ]
     },
     "execution_count": 25,
     "metadata": {},
     "output_type": "execute_result"
    }
   ],
   "source": [
    "num_rows = train.shape[0]\n",
    "num_rows"
   ]
  },
  {
   "cell_type": "code",
   "execution_count": 26,
   "metadata": {},
   "outputs": [],
   "source": [
    "index_group_size = 100"
   ]
  },
  {
   "cell_type": "code",
   "execution_count": 27,
   "metadata": {},
   "outputs": [
    {
     "data": {
      "text/plain": [
       "array([  0, 100, 200, 300, 400, 500, 600, 700, 800, 900])"
      ]
     },
     "execution_count": 27,
     "metadata": {},
     "output_type": "execute_result"
    }
   ],
   "source": [
    "time_samples = np.arange(0,num_rows, 100)\n",
    "time_samples[0:10]"
   ]
  },
  {
   "cell_type": "code",
   "execution_count": 28,
   "metadata": {},
   "outputs": [
    {
     "data": {
      "text/html": [
       "<div>\n",
       "<style scoped>\n",
       "    .dataframe tbody tr th:only-of-type {\n",
       "        vertical-align: middle;\n",
       "    }\n",
       "\n",
       "    .dataframe tbody tr th {\n",
       "        vertical-align: top;\n",
       "    }\n",
       "\n",
       "    .dataframe thead th {\n",
       "        text-align: right;\n",
       "    }\n",
       "</style>\n",
       "<table border=\"1\" class=\"dataframe\">\n",
       "  <thead>\n",
       "    <tr style=\"text-align: right;\">\n",
       "      <th></th>\n",
       "      <th>0</th>\n",
       "      <th>1</th>\n",
       "      <th>2</th>\n",
       "      <th>3</th>\n",
       "      <th>4</th>\n",
       "      <th>5</th>\n",
       "      <th>6</th>\n",
       "      <th>7</th>\n",
       "      <th>8</th>\n",
       "      <th>9</th>\n",
       "    </tr>\n",
       "  </thead>\n",
       "  <tbody>\n",
       "    <tr>\n",
       "      <th>0</th>\n",
       "      <td>18</td>\n",
       "      <td>1</td>\n",
       "      <td>-19</td>\n",
       "      <td>-16</td>\n",
       "      <td>-5</td>\n",
       "      <td>19</td>\n",
       "      <td>-15</td>\n",
       "      <td>15</td>\n",
       "      <td>-1</td>\n",
       "      <td>-16</td>\n",
       "    </tr>\n",
       "    <tr>\n",
       "      <th>100</th>\n",
       "      <td>18</td>\n",
       "      <td>1</td>\n",
       "      <td>-19</td>\n",
       "      <td>-16</td>\n",
       "      <td>-5</td>\n",
       "      <td>20</td>\n",
       "      <td>-18</td>\n",
       "      <td>16</td>\n",
       "      <td>-1</td>\n",
       "      <td>-17</td>\n",
       "    </tr>\n",
       "    <tr>\n",
       "      <th>200</th>\n",
       "      <td>18</td>\n",
       "      <td>1</td>\n",
       "      <td>-19</td>\n",
       "      <td>-16</td>\n",
       "      <td>-5</td>\n",
       "      <td>20</td>\n",
       "      <td>-17</td>\n",
       "      <td>15</td>\n",
       "      <td>-3</td>\n",
       "      <td>-16</td>\n",
       "    </tr>\n",
       "    <tr>\n",
       "      <th>300</th>\n",
       "      <td>18</td>\n",
       "      <td>1</td>\n",
       "      <td>-18</td>\n",
       "      <td>-15</td>\n",
       "      <td>-4</td>\n",
       "      <td>21</td>\n",
       "      <td>-16</td>\n",
       "      <td>17</td>\n",
       "      <td>0</td>\n",
       "      <td>-18</td>\n",
       "    </tr>\n",
       "    <tr>\n",
       "      <th>400</th>\n",
       "      <td>18</td>\n",
       "      <td>1</td>\n",
       "      <td>-18</td>\n",
       "      <td>-16</td>\n",
       "      <td>-5</td>\n",
       "      <td>20</td>\n",
       "      <td>-18</td>\n",
       "      <td>16</td>\n",
       "      <td>0</td>\n",
       "      <td>-16</td>\n",
       "    </tr>\n",
       "  </tbody>\n",
       "</table>\n",
       "</div>"
      ],
      "text/plain": [
       "      0  1   2   3  4   5   6   7  8   9\n",
       "0    18  1 -19 -16 -5  19 -15  15 -1 -16\n",
       "100  18  1 -19 -16 -5  20 -18  16 -1 -17\n",
       "200  18  1 -19 -16 -5  20 -17  15 -3 -16\n",
       "300  18  1 -18 -15 -4  21 -16  17  0 -18\n",
       "400  18  1 -18 -16 -5  20 -18  16  0 -16"
      ]
     },
     "execution_count": 28,
     "metadata": {},
     "output_type": "execute_result"
    }
   ],
   "source": [
    "train_down=train.iloc[time_samples,:]\n",
    "train_down.iloc[:, 0:10].head()"
   ]
  },
  {
   "cell_type": "code",
   "execution_count": 29,
   "metadata": {},
   "outputs": [],
   "source": [
    "import numpy.fft as ft"
   ]
  },
  {
   "cell_type": "code",
   "execution_count": 30,
   "metadata": {},
   "outputs": [],
   "source": [
    "def Amplitude(z):\n",
    "    return np.abs(z)"
   ]
  },
  {
   "cell_type": "code",
   "execution_count": 31,
   "metadata": {},
   "outputs": [],
   "source": [
    "def Phase(z):\n",
    "    return (np.arctan2(z.imag,z.real))"
   ]
  },
  {
   "cell_type": "code",
   "execution_count": 32,
   "metadata": {},
   "outputs": [],
   "source": [
    "df_harm=pd.DataFrame()"
   ]
  },
  {
   "cell_type": "code",
   "execution_count": 33,
   "metadata": {},
   "outputs": [],
   "source": [
    "def find_dfa(df_source, df_dest,num_harm,base_col):\n",
    "    # init\n",
    "    dfa=df_dest.iloc[:,0:base_col]\n",
    "    num_ap_cols = int(num_harm/2)\n",
    "    for j in range(0,num_ap_cols) :\n",
    "        dfa['Amp'+str(j)] = 0\n",
    "        dfa['Pha'+str(j)] = 0\n",
    "    dfa['ErrFun'] = 0\n",
    "    dfa['ErrGen'] = 0\n",
    "    # calc\n",
    "    for i in range(0,len(df_source.columns)):\n",
    "        dfa.loc[i]=0\n",
    "        s=df_source.iloc[:,base_col+i]\n",
    "        SF=ft.rfft(s)\n",
    "        SF_Fundam=np.zeros(SF.size, dtype=np.complex_)\n",
    "        SF_Filtered=np.zeros(SF.size, dtype=np.complex_)\n",
    "        SF_Fundam[0:2]=SF[0:2]\n",
    "        SF_Filtered[0:num_harm]=SF[0:num_harm]\n",
    "        s_fun_rec=ft.irfft(SF_Fundam)\n",
    "        s_gen_rec=ft.irfft(SF_Filtered)\n",
    "        for j in range(0,num_ap_cols):\n",
    "            dfa.iloc[i,base_col+2*j] = Amplitude(SF_Filtered[j])\n",
    "            dfa.iloc[i,base_col+2*j+1] = Phase(SF_Filtered[j])\n",
    "        dfa.iloc[i,base_col+2*num_ap_cols] = np.sqrt(np.mean((s-s_fun_rec)**2))\n",
    "        dfa.iloc[i,base_col+2*num_ap_cols+1] = np.sqrt(np.mean((s-s_gen_rec)**2))\n",
    "    return dfa"
   ]
  },
  {
   "cell_type": "code",
   "execution_count": 39,
   "metadata": {},
   "outputs": [],
   "source": [
    "train_max = train.apply(np.max)\n",
    "train_min = train.apply(np.min)"
   ]
  },
  {
   "cell_type": "code",
   "execution_count": 40,
   "metadata": {},
   "outputs": [],
   "source": [
    "train_mean = train_down.apply(np.mean)\n",
    "train_std = train_down.apply(np.std)"
   ]
  },
  {
   "cell_type": "code",
   "execution_count": 41,
   "metadata": {},
   "outputs": [],
   "source": [
    "df_harm=pd.DataFrame()\n",
    "num_harm=10\n",
    "df_harm=find_dfa(train_down,df_harm,num_harm,0)"
   ]
  },
  {
   "cell_type": "code",
   "execution_count": 37,
   "metadata": {},
   "outputs": [
    {
     "data": {
      "text/html": [
       "<div>\n",
       "<style scoped>\n",
       "    .dataframe tbody tr th:only-of-type {\n",
       "        vertical-align: middle;\n",
       "    }\n",
       "\n",
       "    .dataframe tbody tr th {\n",
       "        vertical-align: top;\n",
       "    }\n",
       "\n",
       "    .dataframe thead th {\n",
       "        text-align: right;\n",
       "    }\n",
       "</style>\n",
       "<table border=\"1\" class=\"dataframe\">\n",
       "  <thead>\n",
       "    <tr style=\"text-align: right;\">\n",
       "      <th></th>\n",
       "    </tr>\n",
       "  </thead>\n",
       "  <tbody>\n",
       "  </tbody>\n",
       "</table>\n",
       "</div>"
      ],
      "text/plain": [
       "Empty DataFrame\n",
       "Columns: []\n",
       "Index: []"
      ]
     },
     "execution_count": 37,
     "metadata": {},
     "output_type": "execute_result"
    }
   ],
   "source": [
    "df_harm.iloc[:,0:10].head()"
   ]
  },
  {
   "cell_type": "code",
   "execution_count": 42,
   "metadata": {},
   "outputs": [],
   "source": [
    "metadata_train['mean']=train_mean.values\n",
    "metadata_train['max']=train_max.values\n",
    "metadata_train['min']=train_min.values\n",
    "metadata_train['std']=train_std.values\n",
    "for j in range(0,int(num_harm/2)) :\n",
    "    metadata_train['Amp'+str(j)] = df_harm['Amp'+str(j)]\n",
    "    metadata_train['Pha'+str(j)] = df_harm['Pha'+str(j)]\n",
    "metadata_train['ErrFun'] = df_harm['ErrFun']\n",
    "metadata_train['ErrGen'] = df_harm['ErrGen']"
   ]
  },
  {
   "cell_type": "code",
   "execution_count": 43,
   "metadata": {},
   "outputs": [
    {
     "data": {
      "text/html": [
       "<div>\n",
       "<style scoped>\n",
       "    .dataframe tbody tr th:only-of-type {\n",
       "        vertical-align: middle;\n",
       "    }\n",
       "\n",
       "    .dataframe tbody tr th {\n",
       "        vertical-align: top;\n",
       "    }\n",
       "\n",
       "    .dataframe thead th {\n",
       "        text-align: right;\n",
       "    }\n",
       "</style>\n",
       "<table border=\"1\" class=\"dataframe\">\n",
       "  <thead>\n",
       "    <tr style=\"text-align: right;\">\n",
       "      <th></th>\n",
       "      <th>signal_id</th>\n",
       "      <th>id_measurement</th>\n",
       "      <th>phase</th>\n",
       "      <th>target</th>\n",
       "      <th>mean</th>\n",
       "      <th>max</th>\n",
       "      <th>min</th>\n",
       "      <th>std</th>\n",
       "      <th>Amp0</th>\n",
       "      <th>Pha0</th>\n",
       "      <th>Amp1</th>\n",
       "      <th>Pha1</th>\n",
       "      <th>Amp2</th>\n",
       "      <th>Pha2</th>\n",
       "      <th>Amp3</th>\n",
       "      <th>Pha3</th>\n",
       "      <th>Amp4</th>\n",
       "      <th>Pha4</th>\n",
       "      <th>ErrFun</th>\n",
       "      <th>ErrGen</th>\n",
       "    </tr>\n",
       "  </thead>\n",
       "  <tbody>\n",
       "    <tr>\n",
       "      <th>0</th>\n",
       "      <td>0</td>\n",
       "      <td>0</td>\n",
       "      <td>0</td>\n",
       "      <td>0</td>\n",
       "      <td>-0.955625</td>\n",
       "      <td>33</td>\n",
       "      <td>-39</td>\n",
       "      <td>13.875082</td>\n",
       "      <td>7645.0</td>\n",
       "      <td>3.141593</td>\n",
       "      <td>77646.997989</td>\n",
       "      <td>0.565379</td>\n",
       "      <td>312.482475</td>\n",
       "      <td>-0.220529</td>\n",
       "      <td>555.905375</td>\n",
       "      <td>-0.142607</td>\n",
       "      <td>725.516282</td>\n",
       "      <td>-0.031373</td>\n",
       "      <td>2.027288</td>\n",
       "      <td>1.077001</td>\n",
       "    </tr>\n",
       "    <tr>\n",
       "      <th>1</th>\n",
       "      <td>1</td>\n",
       "      <td>0</td>\n",
       "      <td>1</td>\n",
       "      <td>0</td>\n",
       "      <td>-0.194250</td>\n",
       "      <td>26</td>\n",
       "      <td>-30</td>\n",
       "      <td>13.040534</td>\n",
       "      <td>1554.0</td>\n",
       "      <td>3.141593</td>\n",
       "      <td>72982.097221</td>\n",
       "      <td>-1.524697</td>\n",
       "      <td>238.348502</td>\n",
       "      <td>2.825956</td>\n",
       "      <td>653.633666</td>\n",
       "      <td>-2.782895</td>\n",
       "      <td>879.208223</td>\n",
       "      <td>-2.285654</td>\n",
       "      <td>1.898931</td>\n",
       "      <td>1.030193</td>\n",
       "    </tr>\n",
       "    <tr>\n",
       "      <th>2</th>\n",
       "      <td>2</td>\n",
       "      <td>0</td>\n",
       "      <td>2</td>\n",
       "      <td>0</td>\n",
       "      <td>-0.053000</td>\n",
       "      <td>39</td>\n",
       "      <td>-28</td>\n",
       "      <td>13.683245</td>\n",
       "      <td>424.0</td>\n",
       "      <td>3.141593</td>\n",
       "      <td>76638.532646</td>\n",
       "      <td>2.683598</td>\n",
       "      <td>50.933339</td>\n",
       "      <td>-2.321062</td>\n",
       "      <td>337.296314</td>\n",
       "      <td>2.089102</td>\n",
       "      <td>674.694524</td>\n",
       "      <td>1.896273</td>\n",
       "      <td>1.919745</td>\n",
       "      <td>1.068946</td>\n",
       "    </tr>\n",
       "    <tr>\n",
       "      <th>3</th>\n",
       "      <td>3</td>\n",
       "      <td>1</td>\n",
       "      <td>0</td>\n",
       "      <td>1</td>\n",
       "      <td>-0.995500</td>\n",
       "      <td>52</td>\n",
       "      <td>-77</td>\n",
       "      <td>13.669875</td>\n",
       "      <td>7964.0</td>\n",
       "      <td>3.141593</td>\n",
       "      <td>76936.076004</td>\n",
       "      <td>-2.398836</td>\n",
       "      <td>38.728609</td>\n",
       "      <td>-3.066331</td>\n",
       "      <td>254.582152</td>\n",
       "      <td>-2.665527</td>\n",
       "      <td>295.647834</td>\n",
       "      <td>-2.260187</td>\n",
       "      <td>1.375404</td>\n",
       "      <td>0.951130</td>\n",
       "    </tr>\n",
       "    <tr>\n",
       "      <th>4</th>\n",
       "      <td>4</td>\n",
       "      <td>1</td>\n",
       "      <td>1</td>\n",
       "      <td>1</td>\n",
       "      <td>-0.157625</td>\n",
       "      <td>33</td>\n",
       "      <td>-40</td>\n",
       "      <td>12.944276</td>\n",
       "      <td>1261.0</td>\n",
       "      <td>3.141593</td>\n",
       "      <td>72845.386093</td>\n",
       "      <td>1.793845</td>\n",
       "      <td>60.280461</td>\n",
       "      <td>1.176265</td>\n",
       "      <td>393.890115</td>\n",
       "      <td>1.371384</td>\n",
       "      <td>261.512972</td>\n",
       "      <td>1.711504</td>\n",
       "      <td>1.314423</td>\n",
       "      <td>0.857353</td>\n",
       "    </tr>\n",
       "  </tbody>\n",
       "</table>\n",
       "</div>"
      ],
      "text/plain": [
       "   signal_id  id_measurement  phase  target      mean  max  min        std  \\\n",
       "0          0               0      0       0 -0.955625   33  -39  13.875082   \n",
       "1          1               0      1       0 -0.194250   26  -30  13.040534   \n",
       "2          2               0      2       0 -0.053000   39  -28  13.683245   \n",
       "3          3               1      0       1 -0.995500   52  -77  13.669875   \n",
       "4          4               1      1       1 -0.157625   33  -40  12.944276   \n",
       "\n",
       "     Amp0      Pha0          Amp1      Pha1        Amp2      Pha2        Amp3  \\\n",
       "0  7645.0  3.141593  77646.997989  0.565379  312.482475 -0.220529  555.905375   \n",
       "1  1554.0  3.141593  72982.097221 -1.524697  238.348502  2.825956  653.633666   \n",
       "2   424.0  3.141593  76638.532646  2.683598   50.933339 -2.321062  337.296314   \n",
       "3  7964.0  3.141593  76936.076004 -2.398836   38.728609 -3.066331  254.582152   \n",
       "4  1261.0  3.141593  72845.386093  1.793845   60.280461  1.176265  393.890115   \n",
       "\n",
       "       Pha3        Amp4      Pha4    ErrFun    ErrGen  \n",
       "0 -0.142607  725.516282 -0.031373  2.027288  1.077001  \n",
       "1 -2.782895  879.208223 -2.285654  1.898931  1.030193  \n",
       "2  2.089102  674.694524  1.896273  1.919745  1.068946  \n",
       "3 -2.665527  295.647834 -2.260187  1.375404  0.951130  \n",
       "4  1.371384  261.512972  1.711504  1.314423  0.857353  "
      ]
     },
     "execution_count": 43,
     "metadata": {},
     "output_type": "execute_result"
    }
   ],
   "source": [
    "metadata_train.head()"
   ]
  },
  {
   "cell_type": "code",
   "execution_count": 44,
   "metadata": {},
   "outputs": [],
   "source": [
    "df_train = metadata_train\n",
    "df_train.to_csv('df_train.csv', index=False)"
   ]
  },
  {
   "cell_type": "markdown",
   "metadata": {},
   "source": [
    "## Test Set Preparation"
   ]
  },
  {
   "cell_type": "markdown",
   "metadata": {},
   "source": [
    "Now we'll extract the test set. "
   ]
  },
  {
   "cell_type": "code",
   "execution_count": 45,
   "metadata": {},
   "outputs": [
    {
     "data": {
      "text/plain": [
       "771"
      ]
     },
     "execution_count": 45,
     "metadata": {},
     "output_type": "execute_result"
    }
   ],
   "source": [
    "col_group_size = 2000\n",
    "gc.collect()"
   ]
  },
  {
   "cell_type": "code",
   "execution_count": 46,
   "metadata": {},
   "outputs": [],
   "source": [
    "metadata_test = pd.read_csv(\"input/metadata_test.csv\")"
   ]
  },
  {
   "cell_type": "code",
   "execution_count": 47,
   "metadata": {},
   "outputs": [],
   "source": [
    "metadata_test['target']=-1\n",
    "metadata_test['mean']=0\n",
    "metadata_test['max']=0\n",
    "metadata_test['min']=0\n",
    "metadata_test['std']=0\n",
    "for j in range(0,int(num_harm/2)) :\n",
    "    metadata_test['Amp'+str(j)] = 0\n",
    "    metadata_test['Pha'+str(j)] = 0\n",
    "metadata_test['ErrFun'] = 0\n",
    "metadata_test['ErrGen'] = 0"
   ]
  },
  {
   "cell_type": "code",
   "execution_count": 48,
   "metadata": {},
   "outputs": [
    {
     "data": {
      "text/plain": [
       "(20337, 20)"
      ]
     },
     "execution_count": 48,
     "metadata": {},
     "output_type": "execute_result"
    }
   ],
   "source": [
    "metadata_test.shape"
   ]
  },
  {
   "cell_type": "code",
   "execution_count": 49,
   "metadata": {},
   "outputs": [
    {
     "data": {
      "text/html": [
       "<div>\n",
       "<style scoped>\n",
       "    .dataframe tbody tr th:only-of-type {\n",
       "        vertical-align: middle;\n",
       "    }\n",
       "\n",
       "    .dataframe tbody tr th {\n",
       "        vertical-align: top;\n",
       "    }\n",
       "\n",
       "    .dataframe thead th {\n",
       "        text-align: right;\n",
       "    }\n",
       "</style>\n",
       "<table border=\"1\" class=\"dataframe\">\n",
       "  <thead>\n",
       "    <tr style=\"text-align: right;\">\n",
       "      <th></th>\n",
       "      <th>signal_id</th>\n",
       "      <th>id_measurement</th>\n",
       "      <th>phase</th>\n",
       "      <th>target</th>\n",
       "      <th>mean</th>\n",
       "      <th>max</th>\n",
       "      <th>min</th>\n",
       "      <th>std</th>\n",
       "      <th>Amp0</th>\n",
       "      <th>Pha0</th>\n",
       "      <th>Amp1</th>\n",
       "      <th>Pha1</th>\n",
       "      <th>Amp2</th>\n",
       "      <th>Pha2</th>\n",
       "      <th>Amp3</th>\n",
       "      <th>Pha3</th>\n",
       "      <th>Amp4</th>\n",
       "      <th>Pha4</th>\n",
       "      <th>ErrFun</th>\n",
       "      <th>ErrGen</th>\n",
       "    </tr>\n",
       "  </thead>\n",
       "  <tbody>\n",
       "    <tr>\n",
       "      <th>0</th>\n",
       "      <td>8712</td>\n",
       "      <td>2904</td>\n",
       "      <td>0</td>\n",
       "      <td>-1</td>\n",
       "      <td>0</td>\n",
       "      <td>0</td>\n",
       "      <td>0</td>\n",
       "      <td>0</td>\n",
       "      <td>0</td>\n",
       "      <td>0</td>\n",
       "      <td>0</td>\n",
       "      <td>0</td>\n",
       "      <td>0</td>\n",
       "      <td>0</td>\n",
       "      <td>0</td>\n",
       "      <td>0</td>\n",
       "      <td>0</td>\n",
       "      <td>0</td>\n",
       "      <td>0</td>\n",
       "      <td>0</td>\n",
       "    </tr>\n",
       "    <tr>\n",
       "      <th>1</th>\n",
       "      <td>8713</td>\n",
       "      <td>2904</td>\n",
       "      <td>1</td>\n",
       "      <td>-1</td>\n",
       "      <td>0</td>\n",
       "      <td>0</td>\n",
       "      <td>0</td>\n",
       "      <td>0</td>\n",
       "      <td>0</td>\n",
       "      <td>0</td>\n",
       "      <td>0</td>\n",
       "      <td>0</td>\n",
       "      <td>0</td>\n",
       "      <td>0</td>\n",
       "      <td>0</td>\n",
       "      <td>0</td>\n",
       "      <td>0</td>\n",
       "      <td>0</td>\n",
       "      <td>0</td>\n",
       "      <td>0</td>\n",
       "    </tr>\n",
       "    <tr>\n",
       "      <th>2</th>\n",
       "      <td>8714</td>\n",
       "      <td>2904</td>\n",
       "      <td>2</td>\n",
       "      <td>-1</td>\n",
       "      <td>0</td>\n",
       "      <td>0</td>\n",
       "      <td>0</td>\n",
       "      <td>0</td>\n",
       "      <td>0</td>\n",
       "      <td>0</td>\n",
       "      <td>0</td>\n",
       "      <td>0</td>\n",
       "      <td>0</td>\n",
       "      <td>0</td>\n",
       "      <td>0</td>\n",
       "      <td>0</td>\n",
       "      <td>0</td>\n",
       "      <td>0</td>\n",
       "      <td>0</td>\n",
       "      <td>0</td>\n",
       "    </tr>\n",
       "    <tr>\n",
       "      <th>3</th>\n",
       "      <td>8715</td>\n",
       "      <td>2905</td>\n",
       "      <td>0</td>\n",
       "      <td>-1</td>\n",
       "      <td>0</td>\n",
       "      <td>0</td>\n",
       "      <td>0</td>\n",
       "      <td>0</td>\n",
       "      <td>0</td>\n",
       "      <td>0</td>\n",
       "      <td>0</td>\n",
       "      <td>0</td>\n",
       "      <td>0</td>\n",
       "      <td>0</td>\n",
       "      <td>0</td>\n",
       "      <td>0</td>\n",
       "      <td>0</td>\n",
       "      <td>0</td>\n",
       "      <td>0</td>\n",
       "      <td>0</td>\n",
       "    </tr>\n",
       "    <tr>\n",
       "      <th>4</th>\n",
       "      <td>8716</td>\n",
       "      <td>2905</td>\n",
       "      <td>1</td>\n",
       "      <td>-1</td>\n",
       "      <td>0</td>\n",
       "      <td>0</td>\n",
       "      <td>0</td>\n",
       "      <td>0</td>\n",
       "      <td>0</td>\n",
       "      <td>0</td>\n",
       "      <td>0</td>\n",
       "      <td>0</td>\n",
       "      <td>0</td>\n",
       "      <td>0</td>\n",
       "      <td>0</td>\n",
       "      <td>0</td>\n",
       "      <td>0</td>\n",
       "      <td>0</td>\n",
       "      <td>0</td>\n",
       "      <td>0</td>\n",
       "    </tr>\n",
       "  </tbody>\n",
       "</table>\n",
       "</div>"
      ],
      "text/plain": [
       "   signal_id  id_measurement  phase  target  mean  max  min  std  Amp0  Pha0  \\\n",
       "0       8712            2904      0      -1     0    0    0    0     0     0   \n",
       "1       8713            2904      1      -1     0    0    0    0     0     0   \n",
       "2       8714            2904      2      -1     0    0    0    0     0     0   \n",
       "3       8715            2905      0      -1     0    0    0    0     0     0   \n",
       "4       8716            2905      1      -1     0    0    0    0     0     0   \n",
       "\n",
       "   Amp1  Pha1  Amp2  Pha2  Amp3  Pha3  Amp4  Pha4  ErrFun  ErrGen  \n",
       "0     0     0     0     0     0     0     0     0       0       0  \n",
       "1     0     0     0     0     0     0     0     0       0       0  \n",
       "2     0     0     0     0     0     0     0     0       0       0  \n",
       "3     0     0     0     0     0     0     0     0       0       0  \n",
       "4     0     0     0     0     0     0     0     0       0       0  "
      ]
     },
     "execution_count": 49,
     "metadata": {},
     "output_type": "execute_result"
    }
   ],
   "source": [
    "metadata_test.head()"
   ]
  },
  {
   "cell_type": "code",
   "execution_count": 50,
   "metadata": {},
   "outputs": [],
   "source": [
    "def add_info_test(metadata_df,time_sample_idx_1,col_group_size):\n",
    "    col_id_start_0=np.min(metadata_test['signal_id'])\n",
    "    col_id_start=col_id_start_0\n",
    "    col_id_last=np.max(metadata_test['signal_id'])+1\n",
    "    n_groups = int(np.round((col_id_last-col_id_start)/col_group_size))\n",
    "    print('Steps = {}'.format(n_groups))\n",
    "    for i in range(0,n_groups):\n",
    "        col_id_stop = np.minimum(col_id_start+col_group_size,col_id_last)\n",
    "        col_numbers = np.arange(col_id_start,col_id_stop)\n",
    "        print('Step {s} - cols = [{a},{b})'.format(s=i,a=col_id_start,b=col_id_stop))\n",
    "        print('   Adding Stats...',end=\"\")\n",
    "        col_names = [str(col_numbers[j]) for j in range(0,len(col_numbers))]\n",
    "        test_i = pq.read_pandas('input/test.parquet',columns=col_names).to_pandas()\n",
    "        test_i_d1=test_i.iloc[time_sample_idx_1,:]\n",
    "        test_mean_i = test_i_d1.apply(np.mean)\n",
    "        test_max_i  = test_i.apply(np.max)\n",
    "        test_min_i  = test_i.apply(np.min)\n",
    "        test_std_i  = test_i_d1.apply(np.std)\n",
    "        r_start = col_id_start - col_id_start_0\n",
    "        r_stop = r_start + (col_id_stop-col_id_start)\n",
    "        metadata_df.iloc[r_start:r_stop,4] = test_mean_i[0:col_id_stop-col_id_start].values\n",
    "        metadata_df.iloc[r_start:r_stop,5] = test_max_i[0:col_id_stop-col_id_start].values\n",
    "        metadata_df.iloc[r_start:r_stop,6] = test_min_i[0:col_id_stop-col_id_start].values\n",
    "        metadata_df.iloc[r_start:r_stop,7] = test_std_i[0:col_id_stop-col_id_start].values\n",
    "        print('   Adding FFT...')\n",
    "        df_harm=pd.DataFrame()\n",
    "        df_harm=find_dfa(test_i_d1,df_harm,10,0)\n",
    "        num_ap_cols = int(num_harm/2)\n",
    "        fft_base_col=8\n",
    "        for j in range(0, num_ap_cols) :\n",
    "            metadata_df.iloc[r_start:r_stop,fft_base_col+2*j] = df_harm.iloc[r_start:r_stop,2*j]\n",
    "            metadata_df.iloc[r_start:r_stop,fft_base_col+2*j+1] = df_harm.iloc[r_start:r_stop,2*j+1]\n",
    "            metadata_df.iloc[r_start:r_stop,fft_base_col+num_harm] = df_harm.iloc[r_start:r_stop, num_harm]\n",
    "            metadata_df.iloc[r_start:r_stop,fft_base_col+num_harm+1] = df_harm.iloc[r_start:r_stop, num_harm+1]\n",
    "            col_id_start=col_id_stop\n",
    "        return (metadata_df)"
   ]
  },
  {
   "cell_type": "code",
   "execution_count": 53,
   "metadata": {},
   "outputs": [
    {
     "name": "stdout",
     "output_type": "stream",
     "text": [
      "Steps = 10\n",
      "Step 0 - cols = [8712,10712)\n",
      "   Adding Stats...   Adding FFT...\n"
     ]
    }
   ],
   "source": [
    "metadata_test1=add_info_test(metadata_test,time_samples,col_group_size)"
   ]
  },
  {
   "cell_type": "code",
   "execution_count": 54,
   "metadata": {},
   "outputs": [
    {
     "data": {
      "text/html": [
       "<div>\n",
       "<style scoped>\n",
       "    .dataframe tbody tr th:only-of-type {\n",
       "        vertical-align: middle;\n",
       "    }\n",
       "\n",
       "    .dataframe tbody tr th {\n",
       "        vertical-align: top;\n",
       "    }\n",
       "\n",
       "    .dataframe thead th {\n",
       "        text-align: right;\n",
       "    }\n",
       "</style>\n",
       "<table border=\"1\" class=\"dataframe\">\n",
       "  <thead>\n",
       "    <tr style=\"text-align: right;\">\n",
       "      <th></th>\n",
       "      <th>signal_id</th>\n",
       "      <th>id_measurement</th>\n",
       "      <th>phase</th>\n",
       "      <th>target</th>\n",
       "      <th>mean</th>\n",
       "      <th>max</th>\n",
       "      <th>min</th>\n",
       "      <th>std</th>\n",
       "      <th>Amp0</th>\n",
       "      <th>Pha0</th>\n",
       "      <th>Amp1</th>\n",
       "      <th>Pha1</th>\n",
       "      <th>Amp2</th>\n",
       "      <th>Pha2</th>\n",
       "      <th>Amp3</th>\n",
       "      <th>Pha3</th>\n",
       "      <th>Amp4</th>\n",
       "      <th>Pha4</th>\n",
       "      <th>ErrFun</th>\n",
       "      <th>ErrGen</th>\n",
       "    </tr>\n",
       "  </thead>\n",
       "  <tbody>\n",
       "    <tr>\n",
       "      <th>0</th>\n",
       "      <td>8712</td>\n",
       "      <td>2904</td>\n",
       "      <td>0</td>\n",
       "      <td>-1</td>\n",
       "      <td>-1.020250</td>\n",
       "      <td>28</td>\n",
       "      <td>-46</td>\n",
       "      <td>13.818361</td>\n",
       "      <td>8162.0</td>\n",
       "      <td>3.141593</td>\n",
       "      <td>77677.113236</td>\n",
       "      <td>-0.620609</td>\n",
       "      <td>49.935811</td>\n",
       "      <td>-1.189721</td>\n",
       "      <td>139.942263</td>\n",
       "      <td>2.805564</td>\n",
       "      <td>99.782624</td>\n",
       "      <td>-3.110359</td>\n",
       "      <td>1.546902</td>\n",
       "      <td>0.881698</td>\n",
       "    </tr>\n",
       "    <tr>\n",
       "      <th>1</th>\n",
       "      <td>8713</td>\n",
       "      <td>2904</td>\n",
       "      <td>1</td>\n",
       "      <td>-1</td>\n",
       "      <td>-0.185500</td>\n",
       "      <td>30</td>\n",
       "      <td>-25</td>\n",
       "      <td>13.962542</td>\n",
       "      <td>1484.0</td>\n",
       "      <td>3.141593</td>\n",
       "      <td>78486.686167</td>\n",
       "      <td>-2.742483</td>\n",
       "      <td>106.925549</td>\n",
       "      <td>-3.081248</td>\n",
       "      <td>234.950669</td>\n",
       "      <td>0.278456</td>\n",
       "      <td>30.426611</td>\n",
       "      <td>2.294649</td>\n",
       "      <td>1.564478</td>\n",
       "      <td>0.809758</td>\n",
       "    </tr>\n",
       "    <tr>\n",
       "      <th>2</th>\n",
       "      <td>8714</td>\n",
       "      <td>2904</td>\n",
       "      <td>2</td>\n",
       "      <td>-1</td>\n",
       "      <td>-0.033500</td>\n",
       "      <td>31</td>\n",
       "      <td>-27</td>\n",
       "      <td>13.809811</td>\n",
       "      <td>268.0</td>\n",
       "      <td>3.141593</td>\n",
       "      <td>77615.091351</td>\n",
       "      <td>1.500708</td>\n",
       "      <td>80.945014</td>\n",
       "      <td>2.585721</td>\n",
       "      <td>330.770856</td>\n",
       "      <td>-0.341953</td>\n",
       "      <td>99.512272</td>\n",
       "      <td>0.129898</td>\n",
       "      <td>1.567698</td>\n",
       "      <td>0.894281</td>\n",
       "    </tr>\n",
       "    <tr>\n",
       "      <th>3</th>\n",
       "      <td>8715</td>\n",
       "      <td>2905</td>\n",
       "      <td>0</td>\n",
       "      <td>-1</td>\n",
       "      <td>-0.014125</td>\n",
       "      <td>28</td>\n",
       "      <td>-29</td>\n",
       "      <td>14.104341</td>\n",
       "      <td>113.0</td>\n",
       "      <td>3.141593</td>\n",
       "      <td>78850.060249</td>\n",
       "      <td>-0.663538</td>\n",
       "      <td>84.728526</td>\n",
       "      <td>0.736754</td>\n",
       "      <td>346.407278</td>\n",
       "      <td>2.160238</td>\n",
       "      <td>182.735618</td>\n",
       "      <td>0.275893</td>\n",
       "      <td>2.154252</td>\n",
       "      <td>1.663838</td>\n",
       "    </tr>\n",
       "    <tr>\n",
       "      <th>4</th>\n",
       "      <td>8716</td>\n",
       "      <td>2905</td>\n",
       "      <td>1</td>\n",
       "      <td>-1</td>\n",
       "      <td>-1.484625</td>\n",
       "      <td>29</td>\n",
       "      <td>-35</td>\n",
       "      <td>13.572325</td>\n",
       "      <td>11877.0</td>\n",
       "      <td>3.141593</td>\n",
       "      <td>75911.978182</td>\n",
       "      <td>1.319117</td>\n",
       "      <td>51.456168</td>\n",
       "      <td>0.725883</td>\n",
       "      <td>267.470287</td>\n",
       "      <td>0.116584</td>\n",
       "      <td>157.496671</td>\n",
       "      <td>1.205467</td>\n",
       "      <td>2.031225</td>\n",
       "      <td>1.584932</td>\n",
       "    </tr>\n",
       "  </tbody>\n",
       "</table>\n",
       "</div>"
      ],
      "text/plain": [
       "   signal_id  id_measurement  phase  target      mean  max  min        std  \\\n",
       "0       8712            2904      0      -1 -1.020250   28  -46  13.818361   \n",
       "1       8713            2904      1      -1 -0.185500   30  -25  13.962542   \n",
       "2       8714            2904      2      -1 -0.033500   31  -27  13.809811   \n",
       "3       8715            2905      0      -1 -0.014125   28  -29  14.104341   \n",
       "4       8716            2905      1      -1 -1.484625   29  -35  13.572325   \n",
       "\n",
       "      Amp0      Pha0          Amp1      Pha1        Amp2      Pha2  \\\n",
       "0   8162.0  3.141593  77677.113236 -0.620609   49.935811 -1.189721   \n",
       "1   1484.0  3.141593  78486.686167 -2.742483  106.925549 -3.081248   \n",
       "2    268.0  3.141593  77615.091351  1.500708   80.945014  2.585721   \n",
       "3    113.0  3.141593  78850.060249 -0.663538   84.728526  0.736754   \n",
       "4  11877.0  3.141593  75911.978182  1.319117   51.456168  0.725883   \n",
       "\n",
       "         Amp3      Pha3        Amp4      Pha4    ErrFun    ErrGen  \n",
       "0  139.942263  2.805564   99.782624 -3.110359  1.546902  0.881698  \n",
       "1  234.950669  0.278456   30.426611  2.294649  1.564478  0.809758  \n",
       "2  330.770856 -0.341953   99.512272  0.129898  1.567698  0.894281  \n",
       "3  346.407278  2.160238  182.735618  0.275893  2.154252  1.663838  \n",
       "4  267.470287  0.116584  157.496671  1.205467  2.031225  1.584932  "
      ]
     },
     "execution_count": 54,
     "metadata": {},
     "output_type": "execute_result"
    }
   ],
   "source": [
    "metadata_test1.head()"
   ]
  },
  {
   "cell_type": "code",
   "execution_count": 55,
   "metadata": {},
   "outputs": [
    {
     "data": {
      "text/plain": [
       "(20337, 20)"
      ]
     },
     "execution_count": 55,
     "metadata": {},
     "output_type": "execute_result"
    }
   ],
   "source": [
    "metadata_test1.shape"
   ]
  },
  {
   "cell_type": "code",
   "execution_count": 56,
   "metadata": {},
   "outputs": [
    {
     "data": {
      "text/html": [
       "<div>\n",
       "<style scoped>\n",
       "    .dataframe tbody tr th:only-of-type {\n",
       "        vertical-align: middle;\n",
       "    }\n",
       "\n",
       "    .dataframe tbody tr th {\n",
       "        vertical-align: top;\n",
       "    }\n",
       "\n",
       "    .dataframe thead th {\n",
       "        text-align: right;\n",
       "    }\n",
       "</style>\n",
       "<table border=\"1\" class=\"dataframe\">\n",
       "  <thead>\n",
       "    <tr style=\"text-align: right;\">\n",
       "      <th></th>\n",
       "      <th>signal_id</th>\n",
       "      <th>id_measurement</th>\n",
       "      <th>phase</th>\n",
       "      <th>target</th>\n",
       "      <th>mean</th>\n",
       "      <th>max</th>\n",
       "      <th>min</th>\n",
       "      <th>std</th>\n",
       "      <th>Amp0</th>\n",
       "      <th>Pha0</th>\n",
       "      <th>Amp1</th>\n",
       "      <th>Pha1</th>\n",
       "      <th>Amp2</th>\n",
       "      <th>Pha2</th>\n",
       "      <th>Amp3</th>\n",
       "      <th>Pha3</th>\n",
       "      <th>Amp4</th>\n",
       "      <th>Pha4</th>\n",
       "      <th>ErrFun</th>\n",
       "      <th>ErrGen</th>\n",
       "    </tr>\n",
       "  </thead>\n",
       "  <tbody>\n",
       "    <tr>\n",
       "      <th>0</th>\n",
       "      <td>8712</td>\n",
       "      <td>2904</td>\n",
       "      <td>0</td>\n",
       "      <td>-1</td>\n",
       "      <td>-1.020250</td>\n",
       "      <td>28</td>\n",
       "      <td>-46</td>\n",
       "      <td>13.818361</td>\n",
       "      <td>8162.0</td>\n",
       "      <td>3.141593</td>\n",
       "      <td>77677.113236</td>\n",
       "      <td>-0.620609</td>\n",
       "      <td>49.935811</td>\n",
       "      <td>-1.189721</td>\n",
       "      <td>139.942263</td>\n",
       "      <td>2.805564</td>\n",
       "      <td>99.782624</td>\n",
       "      <td>-3.110359</td>\n",
       "      <td>1.546902</td>\n",
       "      <td>0.881698</td>\n",
       "    </tr>\n",
       "    <tr>\n",
       "      <th>1</th>\n",
       "      <td>8713</td>\n",
       "      <td>2904</td>\n",
       "      <td>1</td>\n",
       "      <td>-1</td>\n",
       "      <td>-0.185500</td>\n",
       "      <td>30</td>\n",
       "      <td>-25</td>\n",
       "      <td>13.962542</td>\n",
       "      <td>1484.0</td>\n",
       "      <td>3.141593</td>\n",
       "      <td>78486.686167</td>\n",
       "      <td>-2.742483</td>\n",
       "      <td>106.925549</td>\n",
       "      <td>-3.081248</td>\n",
       "      <td>234.950669</td>\n",
       "      <td>0.278456</td>\n",
       "      <td>30.426611</td>\n",
       "      <td>2.294649</td>\n",
       "      <td>1.564478</td>\n",
       "      <td>0.809758</td>\n",
       "    </tr>\n",
       "    <tr>\n",
       "      <th>2</th>\n",
       "      <td>8714</td>\n",
       "      <td>2904</td>\n",
       "      <td>2</td>\n",
       "      <td>-1</td>\n",
       "      <td>-0.033500</td>\n",
       "      <td>31</td>\n",
       "      <td>-27</td>\n",
       "      <td>13.809811</td>\n",
       "      <td>268.0</td>\n",
       "      <td>3.141593</td>\n",
       "      <td>77615.091351</td>\n",
       "      <td>1.500708</td>\n",
       "      <td>80.945014</td>\n",
       "      <td>2.585721</td>\n",
       "      <td>330.770856</td>\n",
       "      <td>-0.341953</td>\n",
       "      <td>99.512272</td>\n",
       "      <td>0.129898</td>\n",
       "      <td>1.567698</td>\n",
       "      <td>0.894281</td>\n",
       "    </tr>\n",
       "    <tr>\n",
       "      <th>3</th>\n",
       "      <td>8715</td>\n",
       "      <td>2905</td>\n",
       "      <td>0</td>\n",
       "      <td>-1</td>\n",
       "      <td>-0.014125</td>\n",
       "      <td>28</td>\n",
       "      <td>-29</td>\n",
       "      <td>14.104341</td>\n",
       "      <td>113.0</td>\n",
       "      <td>3.141593</td>\n",
       "      <td>78850.060249</td>\n",
       "      <td>-0.663538</td>\n",
       "      <td>84.728526</td>\n",
       "      <td>0.736754</td>\n",
       "      <td>346.407278</td>\n",
       "      <td>2.160238</td>\n",
       "      <td>182.735618</td>\n",
       "      <td>0.275893</td>\n",
       "      <td>2.154252</td>\n",
       "      <td>1.663838</td>\n",
       "    </tr>\n",
       "    <tr>\n",
       "      <th>4</th>\n",
       "      <td>8716</td>\n",
       "      <td>2905</td>\n",
       "      <td>1</td>\n",
       "      <td>-1</td>\n",
       "      <td>-1.484625</td>\n",
       "      <td>29</td>\n",
       "      <td>-35</td>\n",
       "      <td>13.572325</td>\n",
       "      <td>11877.0</td>\n",
       "      <td>3.141593</td>\n",
       "      <td>75911.978182</td>\n",
       "      <td>1.319117</td>\n",
       "      <td>51.456168</td>\n",
       "      <td>0.725883</td>\n",
       "      <td>267.470287</td>\n",
       "      <td>0.116584</td>\n",
       "      <td>157.496671</td>\n",
       "      <td>1.205467</td>\n",
       "      <td>2.031225</td>\n",
       "      <td>1.584932</td>\n",
       "    </tr>\n",
       "    <tr>\n",
       "      <th>5</th>\n",
       "      <td>8717</td>\n",
       "      <td>2905</td>\n",
       "      <td>2</td>\n",
       "      <td>-1</td>\n",
       "      <td>-1.452625</td>\n",
       "      <td>25</td>\n",
       "      <td>-29</td>\n",
       "      <td>13.333670</td>\n",
       "      <td>11621.0</td>\n",
       "      <td>3.141593</td>\n",
       "      <td>74494.994134</td>\n",
       "      <td>-2.869458</td>\n",
       "      <td>54.963574</td>\n",
       "      <td>-1.026549</td>\n",
       "      <td>404.353871</td>\n",
       "      <td>-0.161866</td>\n",
       "      <td>225.276722</td>\n",
       "      <td>-2.580586</td>\n",
       "      <td>2.089199</td>\n",
       "      <td>1.554689</td>\n",
       "    </tr>\n",
       "    <tr>\n",
       "      <th>6</th>\n",
       "      <td>8718</td>\n",
       "      <td>2906</td>\n",
       "      <td>0</td>\n",
       "      <td>-1</td>\n",
       "      <td>-1.185625</td>\n",
       "      <td>29</td>\n",
       "      <td>-30</td>\n",
       "      <td>14.277917</td>\n",
       "      <td>9485.0</td>\n",
       "      <td>3.141593</td>\n",
       "      <td>79633.121243</td>\n",
       "      <td>-2.328687</td>\n",
       "      <td>151.887880</td>\n",
       "      <td>1.096928</td>\n",
       "      <td>376.919730</td>\n",
       "      <td>1.233942</td>\n",
       "      <td>125.715368</td>\n",
       "      <td>0.247751</td>\n",
       "      <td>2.385185</td>\n",
       "      <td>2.228577</td>\n",
       "    </tr>\n",
       "    <tr>\n",
       "      <th>7</th>\n",
       "      <td>8719</td>\n",
       "      <td>2906</td>\n",
       "      <td>1</td>\n",
       "      <td>-1</td>\n",
       "      <td>-1.947375</td>\n",
       "      <td>35</td>\n",
       "      <td>-44</td>\n",
       "      <td>15.914965</td>\n",
       "      <td>15579.0</td>\n",
       "      <td>3.141593</td>\n",
       "      <td>88864.005130</td>\n",
       "      <td>1.921289</td>\n",
       "      <td>122.786589</td>\n",
       "      <td>-1.089530</td>\n",
       "      <td>394.970666</td>\n",
       "      <td>0.695007</td>\n",
       "      <td>40.819802</td>\n",
       "      <td>-2.665630</td>\n",
       "      <td>2.551617</td>\n",
       "      <td>2.420438</td>\n",
       "    </tr>\n",
       "    <tr>\n",
       "      <th>8</th>\n",
       "      <td>8720</td>\n",
       "      <td>2906</td>\n",
       "      <td>2</td>\n",
       "      <td>-1</td>\n",
       "      <td>0.897500</td>\n",
       "      <td>28</td>\n",
       "      <td>-28</td>\n",
       "      <td>14.979244</td>\n",
       "      <td>7180.0</td>\n",
       "      <td>0.000000</td>\n",
       "      <td>83818.156357</td>\n",
       "      <td>-0.089902</td>\n",
       "      <td>22.760629</td>\n",
       "      <td>2.154470</td>\n",
       "      <td>828.305972</td>\n",
       "      <td>-2.198282</td>\n",
       "      <td>84.401893</td>\n",
       "      <td>-2.629334</td>\n",
       "      <td>2.198042</td>\n",
       "      <td>2.008074</td>\n",
       "    </tr>\n",
       "    <tr>\n",
       "      <th>9</th>\n",
       "      <td>8721</td>\n",
       "      <td>2907</td>\n",
       "      <td>0</td>\n",
       "      <td>-1</td>\n",
       "      <td>-0.997625</td>\n",
       "      <td>36</td>\n",
       "      <td>-31</td>\n",
       "      <td>14.088963</td>\n",
       "      <td>7981.0</td>\n",
       "      <td>3.141593</td>\n",
       "      <td>79254.274958</td>\n",
       "      <td>-1.900479</td>\n",
       "      <td>30.360223</td>\n",
       "      <td>1.342049</td>\n",
       "      <td>96.706908</td>\n",
       "      <td>-0.936432</td>\n",
       "      <td>350.482030</td>\n",
       "      <td>2.398050</td>\n",
       "      <td>1.486646</td>\n",
       "      <td>1.160283</td>\n",
       "    </tr>\n",
       "    <tr>\n",
       "      <th>10</th>\n",
       "      <td>8722</td>\n",
       "      <td>2907</td>\n",
       "      <td>1</td>\n",
       "      <td>-1</td>\n",
       "      <td>-0.162875</td>\n",
       "      <td>24</td>\n",
       "      <td>-36</td>\n",
       "      <td>13.449139</td>\n",
       "      <td>1303.0</td>\n",
       "      <td>3.141593</td>\n",
       "      <td>75646.074069</td>\n",
       "      <td>2.287186</td>\n",
       "      <td>81.706577</td>\n",
       "      <td>1.038197</td>\n",
       "      <td>119.477142</td>\n",
       "      <td>2.280105</td>\n",
       "      <td>406.593170</td>\n",
       "      <td>0.130084</td>\n",
       "      <td>1.434078</td>\n",
       "      <td>1.038822</td>\n",
       "    </tr>\n",
       "    <tr>\n",
       "      <th>11</th>\n",
       "      <td>8723</td>\n",
       "      <td>2907</td>\n",
       "      <td>2</td>\n",
       "      <td>-1</td>\n",
       "      <td>-0.045625</td>\n",
       "      <td>47</td>\n",
       "      <td>-30</td>\n",
       "      <td>14.049699</td>\n",
       "      <td>365.0</td>\n",
       "      <td>3.141593</td>\n",
       "      <td>79016.472871</td>\n",
       "      <td>0.210243</td>\n",
       "      <td>73.391035</td>\n",
       "      <td>-0.533747</td>\n",
       "      <td>44.738164</td>\n",
       "      <td>2.825742</td>\n",
       "      <td>288.520114</td>\n",
       "      <td>-1.876216</td>\n",
       "      <td>1.510447</td>\n",
       "      <td>1.093257</td>\n",
       "    </tr>\n",
       "  </tbody>\n",
       "</table>\n",
       "</div>"
      ],
      "text/plain": [
       "    signal_id  id_measurement  phase  target      mean  max  min        std  \\\n",
       "0        8712            2904      0      -1 -1.020250   28  -46  13.818361   \n",
       "1        8713            2904      1      -1 -0.185500   30  -25  13.962542   \n",
       "2        8714            2904      2      -1 -0.033500   31  -27  13.809811   \n",
       "3        8715            2905      0      -1 -0.014125   28  -29  14.104341   \n",
       "4        8716            2905      1      -1 -1.484625   29  -35  13.572325   \n",
       "5        8717            2905      2      -1 -1.452625   25  -29  13.333670   \n",
       "6        8718            2906      0      -1 -1.185625   29  -30  14.277917   \n",
       "7        8719            2906      1      -1 -1.947375   35  -44  15.914965   \n",
       "8        8720            2906      2      -1  0.897500   28  -28  14.979244   \n",
       "9        8721            2907      0      -1 -0.997625   36  -31  14.088963   \n",
       "10       8722            2907      1      -1 -0.162875   24  -36  13.449139   \n",
       "11       8723            2907      2      -1 -0.045625   47  -30  14.049699   \n",
       "\n",
       "       Amp0      Pha0          Amp1      Pha1        Amp2      Pha2  \\\n",
       "0    8162.0  3.141593  77677.113236 -0.620609   49.935811 -1.189721   \n",
       "1    1484.0  3.141593  78486.686167 -2.742483  106.925549 -3.081248   \n",
       "2     268.0  3.141593  77615.091351  1.500708   80.945014  2.585721   \n",
       "3     113.0  3.141593  78850.060249 -0.663538   84.728526  0.736754   \n",
       "4   11877.0  3.141593  75911.978182  1.319117   51.456168  0.725883   \n",
       "5   11621.0  3.141593  74494.994134 -2.869458   54.963574 -1.026549   \n",
       "6    9485.0  3.141593  79633.121243 -2.328687  151.887880  1.096928   \n",
       "7   15579.0  3.141593  88864.005130  1.921289  122.786589 -1.089530   \n",
       "8    7180.0  0.000000  83818.156357 -0.089902   22.760629  2.154470   \n",
       "9    7981.0  3.141593  79254.274958 -1.900479   30.360223  1.342049   \n",
       "10   1303.0  3.141593  75646.074069  2.287186   81.706577  1.038197   \n",
       "11    365.0  3.141593  79016.472871  0.210243   73.391035 -0.533747   \n",
       "\n",
       "          Amp3      Pha3        Amp4      Pha4    ErrFun    ErrGen  \n",
       "0   139.942263  2.805564   99.782624 -3.110359  1.546902  0.881698  \n",
       "1   234.950669  0.278456   30.426611  2.294649  1.564478  0.809758  \n",
       "2   330.770856 -0.341953   99.512272  0.129898  1.567698  0.894281  \n",
       "3   346.407278  2.160238  182.735618  0.275893  2.154252  1.663838  \n",
       "4   267.470287  0.116584  157.496671  1.205467  2.031225  1.584932  \n",
       "5   404.353871 -0.161866  225.276722 -2.580586  2.089199  1.554689  \n",
       "6   376.919730  1.233942  125.715368  0.247751  2.385185  2.228577  \n",
       "7   394.970666  0.695007   40.819802 -2.665630  2.551617  2.420438  \n",
       "8   828.305972 -2.198282   84.401893 -2.629334  2.198042  2.008074  \n",
       "9    96.706908 -0.936432  350.482030  2.398050  1.486646  1.160283  \n",
       "10  119.477142  2.280105  406.593170  0.130084  1.434078  1.038822  \n",
       "11   44.738164  2.825742  288.520114 -1.876216  1.510447  1.093257  "
      ]
     },
     "execution_count": 56,
     "metadata": {},
     "output_type": "execute_result"
    }
   ],
   "source": [
    "metadata_test1.iloc[0:12, :]"
   ]
  },
  {
   "cell_type": "code",
   "execution_count": 57,
   "metadata": {},
   "outputs": [],
   "source": [
    "metadata_test1.to_csv('df_test.csv', index=False)"
   ]
  },
  {
   "cell_type": "markdown",
   "metadata": {},
   "source": [
    "### Now that we have our training and test sets, let's move on to building and testing our predictive model. "
   ]
  }
 ],
 "metadata": {
  "kernelspec": {
   "display_name": "Python 3",
   "language": "python",
   "name": "python3"
  },
  "language_info": {
   "codemirror_mode": {
    "name": "ipython",
    "version": 3
   },
   "file_extension": ".py",
   "mimetype": "text/x-python",
   "name": "python",
   "nbconvert_exporter": "python",
   "pygments_lexer": "ipython3",
   "version": "3.6.8"
  }
 },
 "nbformat": 4,
 "nbformat_minor": 2
}
